{
 "cells": [
  {
   "cell_type": "markdown",
   "id": "708cb180",
   "metadata": {},
   "source": [
    "# Import package"
   ]
  },
  {
   "cell_type": "code",
   "execution_count": 1,
   "id": "a0a34bff",
   "metadata": {},
   "outputs": [],
   "source": [
    "import numpy as np\n",
    "import pandas as pd\n",
    "import seaborn as sns\n",
    "import matplotlib.pyplot as plt\n",
    "import sklearn\n",
    "from datetime import datetime\n",
    "import statsmodels.api as sm\n",
    "from sklearn.model_selection import train_test_split\n",
    "import matplotlib.pyplot as plt\n",
    "import glob\n",
    "import statistics\n",
    "import json"
   ]
  },
  {
   "cell_type": "code",
   "execution_count": null,
   "id": "6bdb5639",
   "metadata": {},
   "outputs": [],
   "source": []
  },
  {
   "cell_type": "markdown",
   "id": "b074d266",
   "metadata": {},
   "source": [
    "# Load / read in dataset"
   ]
  },
  {
   "cell_type": "code",
   "execution_count": 2,
   "id": "c6486c19",
   "metadata": {},
   "outputs": [],
   "source": [
    "with open('transactions.txt', 'rb') as f:\n",
    "    for line in f:\n",
    "        data = json.loads(line)\n"
   ]
  },
  {
   "cell_type": "code",
   "execution_count": 3,
   "id": "04cb24c2",
   "metadata": {
    "scrolled": true
   },
   "outputs": [
    {
     "data": {
      "text/html": [
       "<div>\n",
       "<style scoped>\n",
       "    .dataframe tbody tr th:only-of-type {\n",
       "        vertical-align: middle;\n",
       "    }\n",
       "\n",
       "    .dataframe tbody tr th {\n",
       "        vertical-align: top;\n",
       "    }\n",
       "\n",
       "    .dataframe thead th {\n",
       "        text-align: right;\n",
       "    }\n",
       "</style>\n",
       "<table border=\"1\" class=\"dataframe\">\n",
       "  <thead>\n",
       "    <tr style=\"text-align: right;\">\n",
       "      <th></th>\n",
       "      <th>accountNumber</th>\n",
       "      <th>customerId</th>\n",
       "      <th>creditLimit</th>\n",
       "      <th>availableMoney</th>\n",
       "      <th>transactionDateTime</th>\n",
       "      <th>transactionAmount</th>\n",
       "      <th>merchantName</th>\n",
       "      <th>acqCountry</th>\n",
       "      <th>merchantCountryCode</th>\n",
       "      <th>posEntryMode</th>\n",
       "      <th>...</th>\n",
       "      <th>echoBuffer</th>\n",
       "      <th>currentBalance</th>\n",
       "      <th>merchantCity</th>\n",
       "      <th>merchantState</th>\n",
       "      <th>merchantZip</th>\n",
       "      <th>cardPresent</th>\n",
       "      <th>posOnPremises</th>\n",
       "      <th>recurringAuthInd</th>\n",
       "      <th>expirationDateKeyInMatch</th>\n",
       "      <th>isFraud</th>\n",
       "    </tr>\n",
       "  </thead>\n",
       "  <tbody>\n",
       "    <tr>\n",
       "      <th>0</th>\n",
       "      <td>737265056</td>\n",
       "      <td>737265056</td>\n",
       "      <td>5000</td>\n",
       "      <td>5000.0</td>\n",
       "      <td>2016-08-13T14:27:32</td>\n",
       "      <td>98.55</td>\n",
       "      <td>Uber</td>\n",
       "      <td>US</td>\n",
       "      <td>US</td>\n",
       "      <td>02</td>\n",
       "      <td>...</td>\n",
       "      <td></td>\n",
       "      <td>0.0</td>\n",
       "      <td></td>\n",
       "      <td></td>\n",
       "      <td></td>\n",
       "      <td>False</td>\n",
       "      <td></td>\n",
       "      <td></td>\n",
       "      <td>False</td>\n",
       "      <td>False</td>\n",
       "    </tr>\n",
       "    <tr>\n",
       "      <th>1</th>\n",
       "      <td>737265056</td>\n",
       "      <td>737265056</td>\n",
       "      <td>5000</td>\n",
       "      <td>5000.0</td>\n",
       "      <td>2016-10-11T05:05:54</td>\n",
       "      <td>74.51</td>\n",
       "      <td>AMC #191138</td>\n",
       "      <td>US</td>\n",
       "      <td>US</td>\n",
       "      <td>09</td>\n",
       "      <td>...</td>\n",
       "      <td></td>\n",
       "      <td>0.0</td>\n",
       "      <td></td>\n",
       "      <td></td>\n",
       "      <td></td>\n",
       "      <td>True</td>\n",
       "      <td></td>\n",
       "      <td></td>\n",
       "      <td>False</td>\n",
       "      <td>False</td>\n",
       "    </tr>\n",
       "    <tr>\n",
       "      <th>2</th>\n",
       "      <td>737265056</td>\n",
       "      <td>737265056</td>\n",
       "      <td>5000</td>\n",
       "      <td>5000.0</td>\n",
       "      <td>2016-11-08T09:18:39</td>\n",
       "      <td>7.47</td>\n",
       "      <td>Play Store</td>\n",
       "      <td>US</td>\n",
       "      <td>US</td>\n",
       "      <td>09</td>\n",
       "      <td>...</td>\n",
       "      <td></td>\n",
       "      <td>0.0</td>\n",
       "      <td></td>\n",
       "      <td></td>\n",
       "      <td></td>\n",
       "      <td>False</td>\n",
       "      <td></td>\n",
       "      <td></td>\n",
       "      <td>False</td>\n",
       "      <td>False</td>\n",
       "    </tr>\n",
       "    <tr>\n",
       "      <th>3</th>\n",
       "      <td>737265056</td>\n",
       "      <td>737265056</td>\n",
       "      <td>5000</td>\n",
       "      <td>5000.0</td>\n",
       "      <td>2016-12-10T02:14:50</td>\n",
       "      <td>7.47</td>\n",
       "      <td>Play Store</td>\n",
       "      <td>US</td>\n",
       "      <td>US</td>\n",
       "      <td>09</td>\n",
       "      <td>...</td>\n",
       "      <td></td>\n",
       "      <td>0.0</td>\n",
       "      <td></td>\n",
       "      <td></td>\n",
       "      <td></td>\n",
       "      <td>False</td>\n",
       "      <td></td>\n",
       "      <td></td>\n",
       "      <td>False</td>\n",
       "      <td>False</td>\n",
       "    </tr>\n",
       "    <tr>\n",
       "      <th>4</th>\n",
       "      <td>830329091</td>\n",
       "      <td>830329091</td>\n",
       "      <td>5000</td>\n",
       "      <td>5000.0</td>\n",
       "      <td>2016-03-24T21:04:46</td>\n",
       "      <td>71.18</td>\n",
       "      <td>Tim Hortons #947751</td>\n",
       "      <td>US</td>\n",
       "      <td>US</td>\n",
       "      <td>02</td>\n",
       "      <td>...</td>\n",
       "      <td></td>\n",
       "      <td>0.0</td>\n",
       "      <td></td>\n",
       "      <td></td>\n",
       "      <td></td>\n",
       "      <td>True</td>\n",
       "      <td></td>\n",
       "      <td></td>\n",
       "      <td>False</td>\n",
       "      <td>False</td>\n",
       "    </tr>\n",
       "  </tbody>\n",
       "</table>\n",
       "<p>5 rows × 29 columns</p>\n",
       "</div>"
      ],
      "text/plain": [
       "   accountNumber  customerId  creditLimit  availableMoney  \\\n",
       "0      737265056   737265056         5000          5000.0   \n",
       "1      737265056   737265056         5000          5000.0   \n",
       "2      737265056   737265056         5000          5000.0   \n",
       "3      737265056   737265056         5000          5000.0   \n",
       "4      830329091   830329091         5000          5000.0   \n",
       "\n",
       "   transactionDateTime  transactionAmount         merchantName acqCountry  \\\n",
       "0  2016-08-13T14:27:32              98.55                 Uber         US   \n",
       "1  2016-10-11T05:05:54              74.51          AMC #191138         US   \n",
       "2  2016-11-08T09:18:39               7.47           Play Store         US   \n",
       "3  2016-12-10T02:14:50               7.47           Play Store         US   \n",
       "4  2016-03-24T21:04:46              71.18  Tim Hortons #947751         US   \n",
       "\n",
       "  merchantCountryCode posEntryMode  ... echoBuffer currentBalance  \\\n",
       "0                  US           02  ...                       0.0   \n",
       "1                  US           09  ...                       0.0   \n",
       "2                  US           09  ...                       0.0   \n",
       "3                  US           09  ...                       0.0   \n",
       "4                  US           02  ...                       0.0   \n",
       "\n",
       "  merchantCity merchantState merchantZip  cardPresent  posOnPremises  \\\n",
       "0                                               False                  \n",
       "1                                                True                  \n",
       "2                                               False                  \n",
       "3                                               False                  \n",
       "4                                                True                  \n",
       "\n",
       "   recurringAuthInd expirationDateKeyInMatch isFraud  \n",
       "0                                      False   False  \n",
       "1                                      False   False  \n",
       "2                                      False   False  \n",
       "3                                      False   False  \n",
       "4                                      False   False  \n",
       "\n",
       "[5 rows x 29 columns]"
      ]
     },
     "execution_count": 3,
     "metadata": {},
     "output_type": "execute_result"
    }
   ],
   "source": [
    "trans = pd.read_json('transactions.txt', orient='columns', lines=True)\n",
    "trans.head()"
   ]
  },
  {
   "cell_type": "code",
   "execution_count": 4,
   "id": "0eeb4c7e",
   "metadata": {},
   "outputs": [
    {
     "data": {
      "text/plain": [
       "accountNumber                 int64\n",
       "customerId                    int64\n",
       "creditLimit                   int64\n",
       "availableMoney              float64\n",
       "transactionDateTime          object\n",
       "transactionAmount           float64\n",
       "merchantName                 object\n",
       "acqCountry                   object\n",
       "merchantCountryCode          object\n",
       "posEntryMode                 object\n",
       "posConditionCode             object\n",
       "merchantCategoryCode         object\n",
       "currentExpDate               object\n",
       "accountOpenDate              object\n",
       "dateOfLastAddressChange      object\n",
       "cardCVV                       int64\n",
       "enteredCVV                    int64\n",
       "cardLast4Digits               int64\n",
       "transactionType              object\n",
       "echoBuffer                   object\n",
       "currentBalance              float64\n",
       "merchantCity                 object\n",
       "merchantState                object\n",
       "merchantZip                  object\n",
       "cardPresent                    bool\n",
       "posOnPremises                object\n",
       "recurringAuthInd             object\n",
       "expirationDateKeyInMatch       bool\n",
       "isFraud                        bool\n",
       "dtype: object"
      ]
     },
     "execution_count": 4,
     "metadata": {},
     "output_type": "execute_result"
    }
   ],
   "source": [
    "trans.dtypes"
   ]
  },
  {
   "cell_type": "code",
   "execution_count": 5,
   "id": "e6b57095",
   "metadata": {},
   "outputs": [
    {
     "data": {
      "text/plain": [
       "accountNumber                    0\n",
       "customerId                       0\n",
       "creditLimit                      0\n",
       "availableMoney                   0\n",
       "transactionDateTime              0\n",
       "transactionAmount                0\n",
       "merchantName                     0\n",
       "acqCountry                    4562\n",
       "merchantCountryCode            724\n",
       "posEntryMode                  4054\n",
       "posConditionCode               409\n",
       "merchantCategoryCode             0\n",
       "currentExpDate                   0\n",
       "accountOpenDate                  0\n",
       "dateOfLastAddressChange          0\n",
       "cardCVV                          0\n",
       "enteredCVV                       0\n",
       "cardLast4Digits                  0\n",
       "transactionType                698\n",
       "echoBuffer                  786363\n",
       "currentBalance                   0\n",
       "merchantCity                786363\n",
       "merchantState               786363\n",
       "merchantZip                 786363\n",
       "cardPresent                      0\n",
       "posOnPremises               786363\n",
       "recurringAuthInd            786363\n",
       "expirationDateKeyInMatch         0\n",
       "isFraud                          0\n",
       "dtype: int64"
      ]
     },
     "execution_count": 5,
     "metadata": {},
     "output_type": "execute_result"
    }
   ],
   "source": [
    "# count null\n",
    "# null will be solve in the data processing part\n",
    "null_counts = (trans == '').sum()\n",
    "\n",
    "null_counts"
   ]
  },
  {
   "cell_type": "code",
   "execution_count": 6,
   "id": "49c8d343",
   "metadata": {},
   "outputs": [],
   "source": [
    "trans=trans.drop(['echoBuffer', 'merchantCity', 'merchantState','merchantZip','posOnPremises', 'recurringAuthInd'], axis= 1)"
   ]
  },
  {
   "cell_type": "markdown",
   "id": "cf226f83",
   "metadata": {},
   "source": [
    "<font size=\"3\">\n",
    "I will only drop the null columns at this moment, will keep slove other null value in the following steps.\n",
    "    \n",
    "</font>"
   ]
  },
  {
   "cell_type": "code",
   "execution_count": 7,
   "id": "e4e6cf61",
   "metadata": {},
   "outputs": [
    {
     "data": {
      "text/html": [
       "<div>\n",
       "<style scoped>\n",
       "    .dataframe tbody tr th:only-of-type {\n",
       "        vertical-align: middle;\n",
       "    }\n",
       "\n",
       "    .dataframe tbody tr th {\n",
       "        vertical-align: top;\n",
       "    }\n",
       "\n",
       "    .dataframe thead th {\n",
       "        text-align: right;\n",
       "    }\n",
       "</style>\n",
       "<table border=\"1\" class=\"dataframe\">\n",
       "  <thead>\n",
       "    <tr style=\"text-align: right;\">\n",
       "      <th></th>\n",
       "      <th>accountNumber</th>\n",
       "      <th>customerId</th>\n",
       "      <th>creditLimit</th>\n",
       "      <th>availableMoney</th>\n",
       "      <th>transactionAmount</th>\n",
       "      <th>cardCVV</th>\n",
       "      <th>enteredCVV</th>\n",
       "      <th>cardLast4Digits</th>\n",
       "      <th>currentBalance</th>\n",
       "    </tr>\n",
       "  </thead>\n",
       "  <tbody>\n",
       "    <tr>\n",
       "      <th>count</th>\n",
       "      <td>7.863630e+05</td>\n",
       "      <td>7.863630e+05</td>\n",
       "      <td>786363.000000</td>\n",
       "      <td>786363.000000</td>\n",
       "      <td>786363.000000</td>\n",
       "      <td>786363.000000</td>\n",
       "      <td>786363.000000</td>\n",
       "      <td>786363.000000</td>\n",
       "      <td>786363.000000</td>\n",
       "    </tr>\n",
       "    <tr>\n",
       "      <th>mean</th>\n",
       "      <td>5.372326e+08</td>\n",
       "      <td>5.372326e+08</td>\n",
       "      <td>10759.464459</td>\n",
       "      <td>6250.725369</td>\n",
       "      <td>136.985791</td>\n",
       "      <td>544.467338</td>\n",
       "      <td>544.183857</td>\n",
       "      <td>4757.417799</td>\n",
       "      <td>4508.739089</td>\n",
       "    </tr>\n",
       "    <tr>\n",
       "      <th>std</th>\n",
       "      <td>2.554211e+08</td>\n",
       "      <td>2.554211e+08</td>\n",
       "      <td>11636.174890</td>\n",
       "      <td>8880.783989</td>\n",
       "      <td>147.725569</td>\n",
       "      <td>261.524220</td>\n",
       "      <td>261.551254</td>\n",
       "      <td>2996.583810</td>\n",
       "      <td>6457.442068</td>\n",
       "    </tr>\n",
       "    <tr>\n",
       "      <th>min</th>\n",
       "      <td>1.000881e+08</td>\n",
       "      <td>1.000881e+08</td>\n",
       "      <td>250.000000</td>\n",
       "      <td>-1005.630000</td>\n",
       "      <td>0.000000</td>\n",
       "      <td>100.000000</td>\n",
       "      <td>0.000000</td>\n",
       "      <td>0.000000</td>\n",
       "      <td>0.000000</td>\n",
       "    </tr>\n",
       "    <tr>\n",
       "      <th>25%</th>\n",
       "      <td>3.301333e+08</td>\n",
       "      <td>3.301333e+08</td>\n",
       "      <td>5000.000000</td>\n",
       "      <td>1077.420000</td>\n",
       "      <td>33.650000</td>\n",
       "      <td>310.000000</td>\n",
       "      <td>310.000000</td>\n",
       "      <td>2178.000000</td>\n",
       "      <td>689.910000</td>\n",
       "    </tr>\n",
       "    <tr>\n",
       "      <th>50%</th>\n",
       "      <td>5.074561e+08</td>\n",
       "      <td>5.074561e+08</td>\n",
       "      <td>7500.000000</td>\n",
       "      <td>3184.860000</td>\n",
       "      <td>87.900000</td>\n",
       "      <td>535.000000</td>\n",
       "      <td>535.000000</td>\n",
       "      <td>4733.000000</td>\n",
       "      <td>2451.760000</td>\n",
       "    </tr>\n",
       "    <tr>\n",
       "      <th>75%</th>\n",
       "      <td>7.676200e+08</td>\n",
       "      <td>7.676200e+08</td>\n",
       "      <td>15000.000000</td>\n",
       "      <td>7500.000000</td>\n",
       "      <td>191.480000</td>\n",
       "      <td>785.000000</td>\n",
       "      <td>785.000000</td>\n",
       "      <td>7338.000000</td>\n",
       "      <td>5291.095000</td>\n",
       "    </tr>\n",
       "    <tr>\n",
       "      <th>max</th>\n",
       "      <td>9.993896e+08</td>\n",
       "      <td>9.993896e+08</td>\n",
       "      <td>50000.000000</td>\n",
       "      <td>50000.000000</td>\n",
       "      <td>2011.540000</td>\n",
       "      <td>998.000000</td>\n",
       "      <td>998.000000</td>\n",
       "      <td>9998.000000</td>\n",
       "      <td>47498.810000</td>\n",
       "    </tr>\n",
       "  </tbody>\n",
       "</table>\n",
       "</div>"
      ],
      "text/plain": [
       "       accountNumber    customerId    creditLimit  availableMoney  \\\n",
       "count   7.863630e+05  7.863630e+05  786363.000000   786363.000000   \n",
       "mean    5.372326e+08  5.372326e+08   10759.464459     6250.725369   \n",
       "std     2.554211e+08  2.554211e+08   11636.174890     8880.783989   \n",
       "min     1.000881e+08  1.000881e+08     250.000000    -1005.630000   \n",
       "25%     3.301333e+08  3.301333e+08    5000.000000     1077.420000   \n",
       "50%     5.074561e+08  5.074561e+08    7500.000000     3184.860000   \n",
       "75%     7.676200e+08  7.676200e+08   15000.000000     7500.000000   \n",
       "max     9.993896e+08  9.993896e+08   50000.000000    50000.000000   \n",
       "\n",
       "       transactionAmount        cardCVV     enteredCVV  cardLast4Digits  \\\n",
       "count      786363.000000  786363.000000  786363.000000    786363.000000   \n",
       "mean          136.985791     544.467338     544.183857      4757.417799   \n",
       "std           147.725569     261.524220     261.551254      2996.583810   \n",
       "min             0.000000     100.000000       0.000000         0.000000   \n",
       "25%            33.650000     310.000000     310.000000      2178.000000   \n",
       "50%            87.900000     535.000000     535.000000      4733.000000   \n",
       "75%           191.480000     785.000000     785.000000      7338.000000   \n",
       "max          2011.540000     998.000000     998.000000      9998.000000   \n",
       "\n",
       "       currentBalance  \n",
       "count   786363.000000  \n",
       "mean      4508.739089  \n",
       "std       6457.442068  \n",
       "min          0.000000  \n",
       "25%        689.910000  \n",
       "50%       2451.760000  \n",
       "75%       5291.095000  \n",
       "max      47498.810000  "
      ]
     },
     "execution_count": 7,
     "metadata": {},
     "output_type": "execute_result"
    }
   ],
   "source": [
    "# for numerical data\n",
    "nun_data_describe = trans.describe()\n",
    "nun_data_describe"
   ]
  },
  {
   "cell_type": "code",
   "execution_count": 9,
   "id": "00664238",
   "metadata": {
    "scrolled": true
   },
   "outputs": [],
   "source": [
    "#for object data\n",
    "trans_ob = trans\n",
    "trans_ob = trans_ob.drop(['accountNumber','customerId','creditLimit','availableMoney','transactionAmount','cardCVV','enteredCVV','cardLast4Digits','currentBalance'], axis=1)\n",
    "\n"
   ]
  },
  {
   "cell_type": "code",
   "execution_count": 10,
   "id": "4e74626b",
   "metadata": {},
   "outputs": [
    {
     "name": "stdout",
     "output_type": "stream",
     "text": [
      "Column: transactionDateTime\n",
      "Frequency:\n",
      "2016-12-25T14:04:15    4\n",
      "2016-05-28T14:24:41    4\n",
      "2016-06-02T11:27:00    3\n",
      "2016-04-24T22:44:16    3\n",
      "2016-04-14T13:11:10    3\n",
      "                      ..\n",
      "2016-09-11T13:32:42    1\n",
      "2016-09-11T13:35:34    1\n",
      "2016-09-11T13:38:27    1\n",
      "2016-09-11T13:57:50    1\n",
      "2016-12-30T20:10:29    1\n",
      "Name: transactionDateTime, Length: 776637, dtype: int64\n",
      "\n",
      "Unique count: 776637\n",
      "\n",
      "Column: merchantName\n",
      "Frequency:\n",
      "Uber                             25613\n",
      "Lyft                             25523\n",
      "oldnavy.com                      16992\n",
      "staples.com                      16980\n",
      "alibaba.com                      16959\n",
      "                                 ...  \n",
      "Sprint Communications #561941        2\n",
      "Runners #383214                      2\n",
      "Curves #849125                       1\n",
      "EZ Wireless #149871                  1\n",
      "TMobile Wireless #602341             1\n",
      "Name: merchantName, Length: 2490, dtype: int64\n",
      "\n",
      "Unique count: 2490\n",
      "\n",
      "Column: acqCountry\n",
      "Frequency:\n",
      "US     774709\n",
      "         4562\n",
      "MEX      3130\n",
      "CAN      2424\n",
      "PR       1538\n",
      "Name: acqCountry, dtype: int64\n",
      "\n",
      "Unique count: 5\n",
      "\n",
      "Column: merchantCountryCode\n",
      "Frequency:\n",
      "US     778511\n",
      "MEX      3143\n",
      "CAN      2426\n",
      "PR       1559\n",
      "          724\n",
      "Name: merchantCountryCode, dtype: int64\n",
      "\n",
      "Unique count: 5\n",
      "\n",
      "Column: posEntryMode\n",
      "Frequency:\n",
      "05    315035\n",
      "09    236481\n",
      "02    195934\n",
      "90     19576\n",
      "80     15283\n",
      "        4054\n",
      "Name: posEntryMode, dtype: int64\n",
      "\n",
      "Unique count: 6\n",
      "\n",
      "Column: posConditionCode\n",
      "Frequency:\n",
      "01    628787\n",
      "08    149634\n",
      "99      7533\n",
      "         409\n",
      "Name: posConditionCode, dtype: int64\n",
      "\n",
      "Unique count: 4\n",
      "\n",
      "Column: merchantCategoryCode\n",
      "Frequency:\n",
      "online_retail           202156\n",
      "fastfood                112138\n",
      "entertainment            80098\n",
      "food                     75490\n",
      "online_gifts             66238\n",
      "rideshare                51136\n",
      "hotels                   34097\n",
      "fuel                     23910\n",
      "subscriptions            22901\n",
      "auto                     21651\n",
      "health                   19092\n",
      "personal care            18964\n",
      "airline                  15412\n",
      "mobileapps               14990\n",
      "online_subscriptions     11067\n",
      "furniture                 7432\n",
      "food_delivery             6000\n",
      "gym                       2209\n",
      "cable/phone               1382\n",
      "Name: merchantCategoryCode, dtype: int64\n",
      "\n",
      "Unique count: 19\n",
      "\n",
      "Column: currentExpDate\n",
      "Frequency:\n",
      "03/2029    5103\n",
      "08/2024    5087\n",
      "10/2023    5075\n",
      "05/2027    5063\n",
      "01/2021    5041\n",
      "           ... \n",
      "02/2033    4276\n",
      "02/2029    4260\n",
      "02/2026    4234\n",
      "12/2019    4028\n",
      "08/2033    1874\n",
      "Name: currentExpDate, Length: 165, dtype: int64\n",
      "\n",
      "Unique count: 165\n",
      "\n",
      "Column: accountOpenDate\n",
      "Frequency:\n",
      "2014-06-21    33623\n",
      "2014-09-30    13335\n",
      "2014-05-22    11353\n",
      "2012-10-09    10867\n",
      "2014-10-02    10653\n",
      "              ...  \n",
      "2006-05-12        1\n",
      "2014-04-18        1\n",
      "2006-12-22        1\n",
      "2011-10-16        1\n",
      "2009-11-27        1\n",
      "Name: accountOpenDate, Length: 1820, dtype: int64\n",
      "\n",
      "Unique count: 1820\n",
      "\n",
      "Column: dateOfLastAddressChange\n",
      "Frequency:\n",
      "2016-03-15    3819\n",
      "2016-01-06    3740\n",
      "2016-01-04    3558\n",
      "2016-06-08    3355\n",
      "2016-04-04    3194\n",
      "              ... \n",
      "2009-11-27       1\n",
      "2012-12-10       1\n",
      "2014-04-18       1\n",
      "2012-02-17       1\n",
      "2009-05-14       1\n",
      "Name: dateOfLastAddressChange, Length: 2184, dtype: int64\n",
      "\n",
      "Unique count: 2184\n",
      "\n",
      "Column: transactionType\n",
      "Frequency:\n",
      "PURCHASE                745193\n",
      "REVERSAL                 20303\n",
      "ADDRESS_VERIFICATION     20169\n",
      "                           698\n",
      "Name: transactionType, dtype: int64\n",
      "\n",
      "Unique count: 4\n",
      "\n",
      "Column: cardPresent\n",
      "Frequency:\n",
      "False    433495\n",
      "True     352868\n",
      "Name: cardPresent, dtype: int64\n",
      "\n",
      "Unique count: 2\n",
      "\n",
      "Column: expirationDateKeyInMatch\n",
      "Frequency:\n",
      "False    785320\n",
      "True       1043\n",
      "Name: expirationDateKeyInMatch, dtype: int64\n",
      "\n",
      "Unique count: 2\n",
      "\n",
      "Column: isFraud\n",
      "Frequency:\n",
      "False    773946\n",
      "True      12417\n",
      "Name: isFraud, dtype: int64\n",
      "\n",
      "Unique count: 2\n",
      "\n"
     ]
    }
   ],
   "source": [
    "# get frequency of unique values\n",
    "freq_and_unique = {}\n",
    "for col in trans_ob.columns:\n",
    "    freq_and_unique[col] = {'frequency': trans_ob[col].value_counts(), 'unique_count': trans_ob[col].nunique()}\n",
    "    \n",
    "# Print the result\n",
    "for col, values in freq_and_unique.items():\n",
    "    print(f\"Column: {col}\")\n",
    "    print(f\"Frequency:\\n{values['frequency']}\\n\")\n",
    "    print(f\"Unique count: {values['unique_count']}\\n\")"
   ]
  },
  {
   "cell_type": "markdown",
   "id": "06c2f637",
   "metadata": {},
   "source": [
    "<font size=\"3\">\n",
    "    We have 786363 rows and 29 columns\n",
    "    <br>\n",
    "    <br>\n",
    "    Data is from 5000 accounts\n",
    "    <br>\n",
    "    <br>\n",
    "    There are 6 columns are null\n",
    "    <br>\n",
    "  ('echoBuffer','merchantCity','merchantState','merchantZip','posOnPremises','recurringAuthInd')\n",
    "    <br>\n",
    "    <br>\n",
    "    \n",
    "</font>"
   ]
  },
  {
   "cell_type": "code",
   "execution_count": 11,
   "id": "8806498c",
   "metadata": {},
   "outputs": [
    {
     "data": {
      "text/plain": [
       "12417"
      ]
     },
     "execution_count": 11,
     "metadata": {},
     "output_type": "execute_result"
    }
   ],
   "source": [
    "#TOTAL NUMBER OF FRAUD TRANSACTION\n",
    "count_fraud = (trans['isFraud'].astype(int)).sum()\n",
    "count_fraud"
   ]
  },
  {
   "cell_type": "code",
   "execution_count": 12,
   "id": "8f4b190c",
   "metadata": {},
   "outputs": [
    {
     "data": {
      "text/plain": [
       "0.01579041740264992"
      ]
     },
     "execution_count": 12,
     "metadata": {},
     "output_type": "execute_result"
    }
   ],
   "source": [
    "#FRAUD PERCENTAGE \n",
    "fraud_percentage = count_fraud/786363\n",
    "fraud_percentage"
   ]
  },
  {
   "cell_type": "code",
   "execution_count": 13,
   "id": "8e977dcb",
   "metadata": {},
   "outputs": [
    {
     "data": {
      "text/plain": [
       "Uber             25101\n",
       "Lyft             24763\n",
       "oldnavy.com      16591\n",
       "staples.com      16581\n",
       "alibaba.com      16576\n",
       "apple.com        16541\n",
       "target.com       16451\n",
       "walmart.com      16427\n",
       "cheapfast.com    16416\n",
       "amazon.com       16408\n",
       "Name: merchantName, dtype: int64"
      ]
     },
     "execution_count": 13,
     "metadata": {},
     "output_type": "execute_result"
    }
   ],
   "source": [
    "#TOTAL TRANSACTION ON EACH MERCHANT\n",
    "sum_merchant = trans[trans['isFraud'] == False]['merchantName'].value_counts()\n",
    "sum_merchant.head(10)"
   ]
  },
  {
   "cell_type": "code",
   "execution_count": 14,
   "id": "4720338e",
   "metadata": {},
   "outputs": [
    {
     "data": {
      "text/plain": [
       "Lyft             760\n",
       "ebay.com         639\n",
       "Fresh Flowers    553\n",
       "Uber             512\n",
       "walmart.com      446\n",
       "cheapfast.com    442\n",
       "sears.com        422\n",
       "oldnavy.com      401\n",
       "staples.com      399\n",
       "alibaba.com      383\n",
       "Name: merchantName, dtype: int64"
      ]
     },
     "execution_count": 14,
     "metadata": {},
     "output_type": "execute_result"
    }
   ],
   "source": [
    "#FRAUD BY MERCHANT NAME\n",
    "sum_fraund_merchant = trans[trans['isFraud'] == True]['merchantName'].value_counts()\n",
    "sum_fraund_merchant.head(10)\n"
   ]
  },
  {
   "cell_type": "code",
   "execution_count": 15,
   "id": "9b7d35d0",
   "metadata": {},
   "outputs": [
    {
     "data": {
      "text/html": [
       "<div>\n",
       "<style scoped>\n",
       "    .dataframe tbody tr th:only-of-type {\n",
       "        vertical-align: middle;\n",
       "    }\n",
       "\n",
       "    .dataframe tbody tr th {\n",
       "        vertical-align: top;\n",
       "    }\n",
       "\n",
       "    .dataframe thead th {\n",
       "        text-align: right;\n",
       "    }\n",
       "</style>\n",
       "<table border=\"1\" class=\"dataframe\">\n",
       "  <thead>\n",
       "    <tr style=\"text-align: right;\">\n",
       "      <th></th>\n",
       "      <th>fraud_transactions</th>\n",
       "      <th>total_transactions</th>\n",
       "      <th>fraud_percentage</th>\n",
       "    </tr>\n",
       "  </thead>\n",
       "  <tbody>\n",
       "    <tr>\n",
       "      <th>count</th>\n",
       "      <td>1042.000000</td>\n",
       "      <td>2490.000000</td>\n",
       "      <td>1042.000000</td>\n",
       "    </tr>\n",
       "    <tr>\n",
       "      <th>mean</th>\n",
       "      <td>11.916507</td>\n",
       "      <td>310.821687</td>\n",
       "      <td>1.818631</td>\n",
       "    </tr>\n",
       "    <tr>\n",
       "      <th>std</th>\n",
       "      <td>57.615921</td>\n",
       "      <td>1473.962844</td>\n",
       "      <td>1.353444</td>\n",
       "    </tr>\n",
       "    <tr>\n",
       "      <th>min</th>\n",
       "      <td>1.000000</td>\n",
       "      <td>1.000000</td>\n",
       "      <td>0.113895</td>\n",
       "    </tr>\n",
       "    <tr>\n",
       "      <th>25%</th>\n",
       "      <td>1.000000</td>\n",
       "      <td>43.000000</td>\n",
       "      <td>0.990099</td>\n",
       "    </tr>\n",
       "    <tr>\n",
       "      <th>50%</th>\n",
       "      <td>2.000000</td>\n",
       "      <td>94.000000</td>\n",
       "      <td>1.234568</td>\n",
       "    </tr>\n",
       "    <tr>\n",
       "      <th>75%</th>\n",
       "      <td>3.000000</td>\n",
       "      <td>116.000000</td>\n",
       "      <td>2.321850</td>\n",
       "    </tr>\n",
       "    <tr>\n",
       "      <th>max</th>\n",
       "      <td>760.000000</td>\n",
       "      <td>25101.000000</td>\n",
       "      <td>12.658228</td>\n",
       "    </tr>\n",
       "  </tbody>\n",
       "</table>\n",
       "</div>"
      ],
      "text/plain": [
       "       fraud_transactions  total_transactions  fraud_percentage\n",
       "count         1042.000000         2490.000000       1042.000000\n",
       "mean            11.916507          310.821687          1.818631\n",
       "std             57.615921         1473.962844          1.353444\n",
       "min              1.000000            1.000000          0.113895\n",
       "25%              1.000000           43.000000          0.990099\n",
       "50%              2.000000           94.000000          1.234568\n",
       "75%              3.000000          116.000000          2.321850\n",
       "max            760.000000        25101.000000         12.658228"
      ]
     },
     "execution_count": 15,
     "metadata": {},
     "output_type": "execute_result"
    }
   ],
   "source": [
    "#COUNT FRAUD AND TOTAL TRANSACTION BY Merchant Name\n",
    "sum_fraud_merchant = trans[trans['isFraud'] == True]['merchantName'].value_counts()\n",
    "sum_merchant = trans[trans['isFraud'] == False]['merchantName'].value_counts()\n",
    "\n",
    "#COMBINE TWO TABLES TOGETHER \n",
    "merged = pd.concat([sum_fraud_merchant, sum_merchant], axis=1)\n",
    "merged.columns = ['fraud_transactions', 'total_transactions']\n",
    "merged.index.name = 'merchant_name'\n",
    "\n",
    "merged['fraud_percentage'] = merged['fraud_transactions']/merged['total_transactions']*100\n",
    "\n",
    "#SORT DESCENDING\n",
    "merged = merged.sort_values('fraud_transactions', ascending=False)\n",
    "merged.describe()"
   ]
  },
  {
   "cell_type": "code",
   "execution_count": 16,
   "id": "35734bee",
   "metadata": {},
   "outputs": [
    {
     "data": {
      "text/plain": [
       "62.64798260449383"
      ]
     },
     "execution_count": 16,
     "metadata": {},
     "output_type": "execute_result"
    }
   ],
   "source": [
    "#the percentage of top 20 fraud merchant and total fraud\n",
    "percentage_20_merchant_fraud = merged['fraud_transactions'].head(20).sum()/merged['fraud_transactions'].sum()*100\n",
    "\n",
    "percentage_20_merchant_fraud"
   ]
  },
  {
   "cell_type": "markdown",
   "id": "fdc42d4a",
   "metadata": {},
   "source": [
    "# plot"
   ]
  },
  {
   "cell_type": "code",
   "execution_count": 17,
   "id": "6386a03f",
   "metadata": {
    "scrolled": true
   },
   "outputs": [
    {
     "data": {
      "text/plain": [
       "<AxesSubplot:title={'center':'Transaction Amount Histogram'}, xlabel='transactionAmount', ylabel='Count'>"
      ]
     },
     "execution_count": 17,
     "metadata": {},
     "output_type": "execute_result"
    },
    {
     "data": {
      "image/png": "[encoded data removed]",
      "text/plain": [
       "<Figure size 1800x1200 with 1 Axes>"
      ]
     },
     "metadata": {
      "needs_background": "light"
     },
     "output_type": "display_data"
    }
   ],
   "source": [
    "#make a transaction amount histplot\n",
    "\n",
    "plt.figure(dpi = 300)\n",
    "plt.title('Transaction Amount Histogram',fontsize=14)\n",
    "sns.histplot(trans['transactionAmount'], binwidth=25)\n"
   ]
  },
  {
   "cell_type": "code",
   "execution_count": 18,
   "id": "220dcb26",
   "metadata": {},
   "outputs": [
    {
     "data": {
      "text/plain": [
       "<AxesSubplot:title={'center':'Fraud Transaction Histogram'}, xlabel='transactionAmount', ylabel='Count'>"
      ]
     },
     "execution_count": 18,
     "metadata": {},
     "output_type": "execute_result"
    },
    {
     "data": {
      "image/png": "[encoded data removed]",
      "text/plain": [
       "<Figure size 1800x1200 with 1 Axes>"
      ]
     },
     "metadata": {
      "needs_background": "light"
     },
     "output_type": "display_data"
    }
   ],
   "source": [
    "#make a fraud transaction histplot\n",
    "plt.figure(dpi = 300)\n",
    "plt.title('Fraud Transaction Histogram',fontsize=14)\n",
    "sns.histplot(data = trans[trans['isFraud'] == True], x = 'transactionAmount')"
   ]
  },
  {
   "cell_type": "markdown",
   "id": "2ffac222",
   "metadata": {},
   "source": [
    "# Finds from two plots\n",
    "<br><br>\n",
    "<font size=\"3\">\n",
    "   The major different between the histogram of fraud plot and transaction plot is happened in large amount transaction(over 200).\n",
    "    <br>\n",
    "    <br>\n",
    "    We can assume that the transaction amount is a important feature to determent whether a transaction is fraud or not.\n",
    "\n",
    "    \n",
    "</font>"
   ]
  },
  {
   "cell_type": "code",
   "execution_count": 19,
   "id": "a231fe7b",
   "metadata": {},
   "outputs": [
    {
     "data": {
      "text/plain": [
       "<AxesSubplot:title={'center':'Fraud By Merchant Country'}, xlabel='merchantCountryCode', ylabel='count'>"
      ]
     },
     "execution_count": 19,
     "metadata": {},
     "output_type": "execute_result"
    },
    {
     "data": {
      "image/png": "[encoded data removed]",
      "text/plain": [
       "<Figure size 1800x1200 with 1 Axes>"
      ]
     },
     "metadata": {
      "needs_background": "light"
     },
     "output_type": "display_data"
    }
   ],
   "source": [
    "#fraud by merchant country\n",
    "fraud_by_country = trans[trans['isFraud'] == True]\n",
    "\n",
    "plt.figure(dpi = 300)\n",
    "plt.title('Fraud By Merchant Country',fontsize=14)\n",
    "sns.countplot(x='merchantCountryCode', data=fraud_by_country)"
   ]
  },
  {
   "cell_type": "markdown",
   "id": "886d8957",
   "metadata": {},
   "source": [
    "# Data Wrangling - Duplicate Transactions"
   ]
  },
  {
   "cell_type": "markdown",
   "id": "de82ff16",
   "metadata": {},
   "source": [
    "<font size=\"3\">\n",
    "We will find all duplicate transaction first, and then seperate the 'Multi-trasaction' and 'Reversal Transaction' via transaction type.\n",
    "\n",
    "    \n",
    "</font>"
   ]
  },
  {
   "cell_type": "code",
   "execution_count": 20,
   "id": "b77e0c0b",
   "metadata": {},
   "outputs": [
    {
     "data": {
      "text/plain": [
       "0.08876307761173911"
      ]
     },
     "execution_count": 20,
     "metadata": {},
     "output_type": "execute_result"
    }
   ],
   "source": [
    "percentage_missing_trans_type = 698/786363 * 100\n",
    "percentage_missing_trans_type"
   ]
  },
  {
   "cell_type": "markdown",
   "id": "3f32ac07",
   "metadata": {},
   "source": [
    "<font size=\"3\">\n",
    "In this case, I will assume the missing value in transaction type part is purchase, due to the major transaction type is purchase and the missing value is only 0.08% of total datasize.\n",
    "\n",
    "    \n",
    "</font>"
   ]
  },
  {
   "cell_type": "code",
   "execution_count": 21,
   "id": "8e719ac2",
   "metadata": {},
   "outputs": [],
   "source": [
    "#change the data format\n",
    "trans['transactionDateTime'] = trans['transactionDateTime'].apply(lambda x: datetime.fromisoformat(x))"
   ]
  },
  {
   "cell_type": "code",
   "execution_count": 22,
   "id": "67ab2592",
   "metadata": {},
   "outputs": [
    {
     "data": {
      "text/plain": [
       "0   2016-08-13 14:27:32\n",
       "1   2016-10-11 05:05:54\n",
       "2   2016-11-08 09:18:39\n",
       "3   2016-12-10 02:14:50\n",
       "4   2016-03-24 21:04:46\n",
       "Name: transactionDateTime, dtype: datetime64[ns]"
      ]
     },
     "execution_count": 22,
     "metadata": {},
     "output_type": "execute_result"
    }
   ],
   "source": [
    "trans['transactionDateTime'].head()"
   ]
  },
  {
   "cell_type": "code",
   "execution_count": 23,
   "id": "3f354842",
   "metadata": {},
   "outputs": [
    {
     "data": {
      "text/html": [
       "<div>\n",
       "<style scoped>\n",
       "    .dataframe tbody tr th:only-of-type {\n",
       "        vertical-align: middle;\n",
       "    }\n",
       "\n",
       "    .dataframe tbody tr th {\n",
       "        vertical-align: top;\n",
       "    }\n",
       "\n",
       "    .dataframe thead th {\n",
       "        text-align: right;\n",
       "    }\n",
       "</style>\n",
       "<table border=\"1\" class=\"dataframe\">\n",
       "  <thead>\n",
       "    <tr style=\"text-align: right;\">\n",
       "      <th></th>\n",
       "      <th>accountNumber</th>\n",
       "      <th>customerId</th>\n",
       "      <th>creditLimit</th>\n",
       "      <th>availableMoney</th>\n",
       "      <th>transactionDateTime</th>\n",
       "      <th>transactionAmount</th>\n",
       "      <th>merchantName</th>\n",
       "      <th>acqCountry</th>\n",
       "      <th>merchantCountryCode</th>\n",
       "      <th>posEntryMode</th>\n",
       "      <th>...</th>\n",
       "      <th>accountOpenDate</th>\n",
       "      <th>dateOfLastAddressChange</th>\n",
       "      <th>cardCVV</th>\n",
       "      <th>enteredCVV</th>\n",
       "      <th>cardLast4Digits</th>\n",
       "      <th>transactionType</th>\n",
       "      <th>currentBalance</th>\n",
       "      <th>cardPresent</th>\n",
       "      <th>expirationDateKeyInMatch</th>\n",
       "      <th>isFraud</th>\n",
       "    </tr>\n",
       "  </thead>\n",
       "  <tbody>\n",
       "    <tr>\n",
       "      <th>541900</th>\n",
       "      <td>100088067</td>\n",
       "      <td>100088067</td>\n",
       "      <td>50000</td>\n",
       "      <td>50000.00</td>\n",
       "      <td>2016-01-12 00:59:52</td>\n",
       "      <td>205.13</td>\n",
       "      <td>EZ Putt Putt #982199</td>\n",
       "      <td>US</td>\n",
       "      <td>US</td>\n",
       "      <td>02</td>\n",
       "      <td>...</td>\n",
       "      <td>2014-01-09</td>\n",
       "      <td>2014-01-09</td>\n",
       "      <td>546</td>\n",
       "      <td>546</td>\n",
       "      <td>4615</td>\n",
       "      <td>PURCHASE</td>\n",
       "      <td>0.00</td>\n",
       "      <td>True</td>\n",
       "      <td>False</td>\n",
       "      <td>False</td>\n",
       "    </tr>\n",
       "    <tr>\n",
       "      <th>541901</th>\n",
       "      <td>100088067</td>\n",
       "      <td>100088067</td>\n",
       "      <td>50000</td>\n",
       "      <td>49794.87</td>\n",
       "      <td>2016-01-12 19:49:41</td>\n",
       "      <td>46.43</td>\n",
       "      <td>Dinosaur Sandwitch Bar #303701</td>\n",
       "      <td>US</td>\n",
       "      <td>US</td>\n",
       "      <td>05</td>\n",
       "      <td>...</td>\n",
       "      <td>2014-01-09</td>\n",
       "      <td>2014-01-09</td>\n",
       "      <td>546</td>\n",
       "      <td>546</td>\n",
       "      <td>4615</td>\n",
       "      <td>PURCHASE</td>\n",
       "      <td>205.13</td>\n",
       "      <td>True</td>\n",
       "      <td>False</td>\n",
       "      <td>False</td>\n",
       "    </tr>\n",
       "    <tr>\n",
       "      <th>541902</th>\n",
       "      <td>100088067</td>\n",
       "      <td>100088067</td>\n",
       "      <td>50000</td>\n",
       "      <td>49748.44</td>\n",
       "      <td>2016-01-17 15:41:46</td>\n",
       "      <td>378.67</td>\n",
       "      <td>Mobile eCards</td>\n",
       "      <td>US</td>\n",
       "      <td>US</td>\n",
       "      <td>05</td>\n",
       "      <td>...</td>\n",
       "      <td>2014-01-09</td>\n",
       "      <td>2014-01-09</td>\n",
       "      <td>402</td>\n",
       "      <td>402</td>\n",
       "      <td>2077</td>\n",
       "      <td>PURCHASE</td>\n",
       "      <td>251.56</td>\n",
       "      <td>False</td>\n",
       "      <td>False</td>\n",
       "      <td>False</td>\n",
       "    </tr>\n",
       "    <tr>\n",
       "      <th>541903</th>\n",
       "      <td>100088067</td>\n",
       "      <td>100088067</td>\n",
       "      <td>50000</td>\n",
       "      <td>50000.00</td>\n",
       "      <td>2016-02-02 19:57:18</td>\n",
       "      <td>66.07</td>\n",
       "      <td>EZ Putt Putt #40513</td>\n",
       "      <td>US</td>\n",
       "      <td>US</td>\n",
       "      <td>02</td>\n",
       "      <td>...</td>\n",
       "      <td>2014-01-09</td>\n",
       "      <td>2014-01-09</td>\n",
       "      <td>546</td>\n",
       "      <td>546</td>\n",
       "      <td>4615</td>\n",
       "      <td>PURCHASE</td>\n",
       "      <td>0.00</td>\n",
       "      <td>True</td>\n",
       "      <td>False</td>\n",
       "      <td>False</td>\n",
       "    </tr>\n",
       "    <tr>\n",
       "      <th>541904</th>\n",
       "      <td>100088067</td>\n",
       "      <td>100088067</td>\n",
       "      <td>50000</td>\n",
       "      <td>49933.93</td>\n",
       "      <td>2016-02-03 04:48:54</td>\n",
       "      <td>141.60</td>\n",
       "      <td>34th BBQ #412895</td>\n",
       "      <td>US</td>\n",
       "      <td>US</td>\n",
       "      <td>09</td>\n",
       "      <td>...</td>\n",
       "      <td>2014-01-09</td>\n",
       "      <td>2014-01-09</td>\n",
       "      <td>546</td>\n",
       "      <td>546</td>\n",
       "      <td>4615</td>\n",
       "      <td>PURCHASE</td>\n",
       "      <td>66.07</td>\n",
       "      <td>True</td>\n",
       "      <td>False</td>\n",
       "      <td>False</td>\n",
       "    </tr>\n",
       "    <tr>\n",
       "      <th>541905</th>\n",
       "      <td>100088067</td>\n",
       "      <td>100088067</td>\n",
       "      <td>50000</td>\n",
       "      <td>49792.33</td>\n",
       "      <td>2016-02-08 06:09:12</td>\n",
       "      <td>259.44</td>\n",
       "      <td>Blue Mountain eCards</td>\n",
       "      <td>US</td>\n",
       "      <td>US</td>\n",
       "      <td>05</td>\n",
       "      <td>...</td>\n",
       "      <td>2014-01-09</td>\n",
       "      <td>2014-01-09</td>\n",
       "      <td>402</td>\n",
       "      <td>402</td>\n",
       "      <td>2077</td>\n",
       "      <td>PURCHASE</td>\n",
       "      <td>207.67</td>\n",
       "      <td>False</td>\n",
       "      <td>False</td>\n",
       "      <td>False</td>\n",
       "    </tr>\n",
       "    <tr>\n",
       "      <th>541906</th>\n",
       "      <td>100088067</td>\n",
       "      <td>100088067</td>\n",
       "      <td>50000</td>\n",
       "      <td>49532.89</td>\n",
       "      <td>2016-02-09 18:36:53</td>\n",
       "      <td>32.50</td>\n",
       "      <td>EZ Putt Putt #804489</td>\n",
       "      <td>US</td>\n",
       "      <td>US</td>\n",
       "      <td>09</td>\n",
       "      <td>...</td>\n",
       "      <td>2014-01-09</td>\n",
       "      <td>2014-01-09</td>\n",
       "      <td>402</td>\n",
       "      <td>402</td>\n",
       "      <td>2077</td>\n",
       "      <td>PURCHASE</td>\n",
       "      <td>467.11</td>\n",
       "      <td>True</td>\n",
       "      <td>False</td>\n",
       "      <td>False</td>\n",
       "    </tr>\n",
       "    <tr>\n",
       "      <th>541907</th>\n",
       "      <td>100088067</td>\n",
       "      <td>100088067</td>\n",
       "      <td>50000</td>\n",
       "      <td>49500.39</td>\n",
       "      <td>2016-02-09 23:44:13</td>\n",
       "      <td>23.06</td>\n",
       "      <td>South Cafe</td>\n",
       "      <td>US</td>\n",
       "      <td>US</td>\n",
       "      <td>02</td>\n",
       "      <td>...</td>\n",
       "      <td>2014-01-09</td>\n",
       "      <td>2014-01-09</td>\n",
       "      <td>546</td>\n",
       "      <td>546</td>\n",
       "      <td>4615</td>\n",
       "      <td>PURCHASE</td>\n",
       "      <td>499.61</td>\n",
       "      <td>True</td>\n",
       "      <td>False</td>\n",
       "      <td>False</td>\n",
       "    </tr>\n",
       "    <tr>\n",
       "      <th>541908</th>\n",
       "      <td>100088067</td>\n",
       "      <td>100088067</td>\n",
       "      <td>50000</td>\n",
       "      <td>49477.33</td>\n",
       "      <td>2016-02-13 20:17:41</td>\n",
       "      <td>56.05</td>\n",
       "      <td>Fresh Flowers</td>\n",
       "      <td>US</td>\n",
       "      <td>US</td>\n",
       "      <td>05</td>\n",
       "      <td>...</td>\n",
       "      <td>2014-01-09</td>\n",
       "      <td>2014-01-09</td>\n",
       "      <td>402</td>\n",
       "      <td>402</td>\n",
       "      <td>2077</td>\n",
       "      <td>PURCHASE</td>\n",
       "      <td>522.67</td>\n",
       "      <td>False</td>\n",
       "      <td>False</td>\n",
       "      <td>False</td>\n",
       "    </tr>\n",
       "    <tr>\n",
       "      <th>541909</th>\n",
       "      <td>100088067</td>\n",
       "      <td>100088067</td>\n",
       "      <td>50000</td>\n",
       "      <td>49421.28</td>\n",
       "      <td>2016-02-21 01:14:56</td>\n",
       "      <td>71.35</td>\n",
       "      <td>AMC #724446</td>\n",
       "      <td>US</td>\n",
       "      <td>US</td>\n",
       "      <td>09</td>\n",
       "      <td>...</td>\n",
       "      <td>2014-01-09</td>\n",
       "      <td>2014-01-09</td>\n",
       "      <td>546</td>\n",
       "      <td>546</td>\n",
       "      <td>4615</td>\n",
       "      <td>PURCHASE</td>\n",
       "      <td>578.72</td>\n",
       "      <td>True</td>\n",
       "      <td>True</td>\n",
       "      <td>False</td>\n",
       "    </tr>\n",
       "  </tbody>\n",
       "</table>\n",
       "<p>10 rows × 23 columns</p>\n",
       "</div>"
      ],
      "text/plain": [
       "        accountNumber  customerId  creditLimit  availableMoney  \\\n",
       "541900      100088067   100088067        50000        50000.00   \n",
       "541901      100088067   100088067        50000        49794.87   \n",
       "541902      100088067   100088067        50000        49748.44   \n",
       "541903      100088067   100088067        50000        50000.00   \n",
       "541904      100088067   100088067        50000        49933.93   \n",
       "541905      100088067   100088067        50000        49792.33   \n",
       "541906      100088067   100088067        50000        49532.89   \n",
       "541907      100088067   100088067        50000        49500.39   \n",
       "541908      100088067   100088067        50000        49477.33   \n",
       "541909      100088067   100088067        50000        49421.28   \n",
       "\n",
       "       transactionDateTime  transactionAmount                    merchantName  \\\n",
       "541900 2016-01-12 00:59:52             205.13            EZ Putt Putt #982199   \n",
       "541901 2016-01-12 19:49:41              46.43  Dinosaur Sandwitch Bar #303701   \n",
       "541902 2016-01-17 15:41:46             378.67                   Mobile eCards   \n",
       "541903 2016-02-02 19:57:18              66.07             EZ Putt Putt #40513   \n",
       "541904 2016-02-03 04:48:54             141.60                34th BBQ #412895   \n",
       "541905 2016-02-08 06:09:12             259.44            Blue Mountain eCards   \n",
       "541906 2016-02-09 18:36:53              32.50            EZ Putt Putt #804489   \n",
       "541907 2016-02-09 23:44:13              23.06                      South Cafe   \n",
       "541908 2016-02-13 20:17:41              56.05                   Fresh Flowers   \n",
       "541909 2016-02-21 01:14:56              71.35                     AMC #724446   \n",
       "\n",
       "       acqCountry merchantCountryCode posEntryMode  ... accountOpenDate  \\\n",
       "541900         US                  US           02  ...      2014-01-09   \n",
       "541901         US                  US           05  ...      2014-01-09   \n",
       "541902         US                  US           05  ...      2014-01-09   \n",
       "541903         US                  US           02  ...      2014-01-09   \n",
       "541904         US                  US           09  ...      2014-01-09   \n",
       "541905         US                  US           05  ...      2014-01-09   \n",
       "541906         US                  US           09  ...      2014-01-09   \n",
       "541907         US                  US           02  ...      2014-01-09   \n",
       "541908         US                  US           05  ...      2014-01-09   \n",
       "541909         US                  US           09  ...      2014-01-09   \n",
       "\n",
       "       dateOfLastAddressChange cardCVV enteredCVV cardLast4Digits  \\\n",
       "541900              2014-01-09     546        546            4615   \n",
       "541901              2014-01-09     546        546            4615   \n",
       "541902              2014-01-09     402        402            2077   \n",
       "541903              2014-01-09     546        546            4615   \n",
       "541904              2014-01-09     546        546            4615   \n",
       "541905              2014-01-09     402        402            2077   \n",
       "541906              2014-01-09     402        402            2077   \n",
       "541907              2014-01-09     546        546            4615   \n",
       "541908              2014-01-09     402        402            2077   \n",
       "541909              2014-01-09     546        546            4615   \n",
       "\n",
       "        transactionType  currentBalance  cardPresent expirationDateKeyInMatch  \\\n",
       "541900         PURCHASE            0.00         True                    False   \n",
       "541901         PURCHASE          205.13         True                    False   \n",
       "541902         PURCHASE          251.56        False                    False   \n",
       "541903         PURCHASE            0.00         True                    False   \n",
       "541904         PURCHASE           66.07         True                    False   \n",
       "541905         PURCHASE          207.67        False                    False   \n",
       "541906         PURCHASE          467.11         True                    False   \n",
       "541907         PURCHASE          499.61         True                    False   \n",
       "541908         PURCHASE          522.67        False                    False   \n",
       "541909         PURCHASE          578.72         True                     True   \n",
       "\n",
       "        isFraud  \n",
       "541900    False  \n",
       "541901    False  \n",
       "541902    False  \n",
       "541903    False  \n",
       "541904    False  \n",
       "541905    False  \n",
       "541906    False  \n",
       "541907    False  \n",
       "541908    False  \n",
       "541909    False  \n",
       "\n",
       "[10 rows x 23 columns]"
      ]
     },
     "execution_count": 23,
     "metadata": {},
     "output_type": "execute_result"
    }
   ],
   "source": [
    "# sort data with account numerb and transaction date\n",
    "trans_sorted = trans.sort_values(['accountNumber','transactionDateTime'])\n",
    "trans_sorted.head(10)"
   ]
  },
  {
   "cell_type": "code",
   "execution_count": 24,
   "id": "28d91817",
   "metadata": {},
   "outputs": [
    {
     "data": {
      "text/plain": [
       "<AxesSubplot:title={'center':'Transaction Type Countplot'}, xlabel='transactionType', ylabel='count'>"
      ]
     },
     "execution_count": 24,
     "metadata": {},
     "output_type": "execute_result"
    },
    {
     "data": {
      "image/png": "[encoded data removed]",
      "text/plain": [
       "<Figure size 2400x1500 with 1 Axes>"
      ]
     },
     "metadata": {
      "needs_background": "light"
     },
     "output_type": "display_data"
    }
   ],
   "source": [
    "#Transaction Type Countplot\n",
    "plt.figure(figsize=(8,5), dpi=300)\n",
    "plt.title('Transaction Type Countplot',fontsize=14)\n",
    "sns.countplot(x='transactionType', data=trans_sorted)"
   ]
  },
  {
   "cell_type": "code",
   "execution_count": 25,
   "id": "4f00a7cc",
   "metadata": {},
   "outputs": [
    {
     "name": "stdout",
     "output_type": "stream",
     "text": [
      "PURCHASE                745193\n",
      "REVERSAL                 20303\n",
      "ADDRESS_VERIFICATION     20169\n",
      "                           698\n",
      "Name: transactionType, dtype: int64\n"
     ]
    }
   ],
   "source": [
    "print(trans_sorted['transactionType'].value_counts())"
   ]
  },
  {
   "cell_type": "code",
   "execution_count": 26,
   "id": "19c367ac",
   "metadata": {},
   "outputs": [
    {
     "data": {
      "text/html": [
       "<div>\n",
       "<style scoped>\n",
       "    .dataframe tbody tr th:only-of-type {\n",
       "        vertical-align: middle;\n",
       "    }\n",
       "\n",
       "    .dataframe tbody tr th {\n",
       "        vertical-align: top;\n",
       "    }\n",
       "\n",
       "    .dataframe thead th {\n",
       "        text-align: right;\n",
       "    }\n",
       "</style>\n",
       "<table border=\"1\" class=\"dataframe\">\n",
       "  <thead>\n",
       "    <tr style=\"text-align: right;\">\n",
       "      <th></th>\n",
       "      <th>accountNumber</th>\n",
       "      <th>customerId</th>\n",
       "      <th>creditLimit</th>\n",
       "      <th>availableMoney</th>\n",
       "      <th>transactionDateTime</th>\n",
       "      <th>transactionAmount</th>\n",
       "      <th>merchantName</th>\n",
       "      <th>acqCountry</th>\n",
       "      <th>merchantCountryCode</th>\n",
       "      <th>posEntryMode</th>\n",
       "      <th>...</th>\n",
       "      <th>accountOpenDate</th>\n",
       "      <th>dateOfLastAddressChange</th>\n",
       "      <th>cardCVV</th>\n",
       "      <th>enteredCVV</th>\n",
       "      <th>cardLast4Digits</th>\n",
       "      <th>transactionType</th>\n",
       "      <th>currentBalance</th>\n",
       "      <th>cardPresent</th>\n",
       "      <th>expirationDateKeyInMatch</th>\n",
       "      <th>isFraud</th>\n",
       "    </tr>\n",
       "  </thead>\n",
       "  <tbody>\n",
       "    <tr>\n",
       "      <th>541964</th>\n",
       "      <td>100088067</td>\n",
       "      <td>100088067</td>\n",
       "      <td>50000</td>\n",
       "      <td>49811.88</td>\n",
       "      <td>2016-11-20 08:00:04</td>\n",
       "      <td>22.32</td>\n",
       "      <td>AMC #79863</td>\n",
       "      <td>US</td>\n",
       "      <td>US</td>\n",
       "      <td>09</td>\n",
       "      <td>...</td>\n",
       "      <td>2014-01-09</td>\n",
       "      <td>2014-01-09</td>\n",
       "      <td>546</td>\n",
       "      <td>546</td>\n",
       "      <td>4615</td>\n",
       "      <td>REVERSAL</td>\n",
       "      <td>188.12</td>\n",
       "      <td>True</td>\n",
       "      <td>False</td>\n",
       "      <td>False</td>\n",
       "    </tr>\n",
       "    <tr>\n",
       "      <th>87920</th>\n",
       "      <td>100328049</td>\n",
       "      <td>100328049</td>\n",
       "      <td>5000</td>\n",
       "      <td>4605.10</td>\n",
       "      <td>2016-01-15 20:36:18</td>\n",
       "      <td>43.74</td>\n",
       "      <td>Lyft</td>\n",
       "      <td>US</td>\n",
       "      <td>US</td>\n",
       "      <td>09</td>\n",
       "      <td>...</td>\n",
       "      <td>2014-01-07</td>\n",
       "      <td>2014-01-07</td>\n",
       "      <td>206</td>\n",
       "      <td>206</td>\n",
       "      <td>2941</td>\n",
       "      <td>REVERSAL</td>\n",
       "      <td>394.90</td>\n",
       "      <td>False</td>\n",
       "      <td>False</td>\n",
       "      <td>False</td>\n",
       "    </tr>\n",
       "    <tr>\n",
       "      <th>87936</th>\n",
       "      <td>100328049</td>\n",
       "      <td>100328049</td>\n",
       "      <td>5000</td>\n",
       "      <td>3792.09</td>\n",
       "      <td>2016-03-26 17:35:09</td>\n",
       "      <td>284.97</td>\n",
       "      <td>McDonalds #423357</td>\n",
       "      <td>US</td>\n",
       "      <td>US</td>\n",
       "      <td>02</td>\n",
       "      <td>...</td>\n",
       "      <td>2014-01-07</td>\n",
       "      <td>2014-01-07</td>\n",
       "      <td>206</td>\n",
       "      <td>206</td>\n",
       "      <td>2941</td>\n",
       "      <td>REVERSAL</td>\n",
       "      <td>1207.91</td>\n",
       "      <td>True</td>\n",
       "      <td>False</td>\n",
       "      <td>False</td>\n",
       "    </tr>\n",
       "    <tr>\n",
       "      <th>151499</th>\n",
       "      <td>100737756</td>\n",
       "      <td>100737756</td>\n",
       "      <td>250</td>\n",
       "      <td>119.51</td>\n",
       "      <td>2016-06-06 22:56:52</td>\n",
       "      <td>93.67</td>\n",
       "      <td>34th BBQ #436606</td>\n",
       "      <td>US</td>\n",
       "      <td>US</td>\n",
       "      <td>05</td>\n",
       "      <td>...</td>\n",
       "      <td>2015-06-21</td>\n",
       "      <td>2015-06-21</td>\n",
       "      <td>463</td>\n",
       "      <td>463</td>\n",
       "      <td>4317</td>\n",
       "      <td>REVERSAL</td>\n",
       "      <td>130.49</td>\n",
       "      <td>True</td>\n",
       "      <td>False</td>\n",
       "      <td>False</td>\n",
       "    </tr>\n",
       "    <tr>\n",
       "      <th>151541</th>\n",
       "      <td>100737756</td>\n",
       "      <td>100737756</td>\n",
       "      <td>250</td>\n",
       "      <td>144.52</td>\n",
       "      <td>2016-08-24 20:21:19</td>\n",
       "      <td>501.29</td>\n",
       "      <td>Best Bistro #262998</td>\n",
       "      <td>US</td>\n",
       "      <td>US</td>\n",
       "      <td>05</td>\n",
       "      <td>...</td>\n",
       "      <td>2015-06-21</td>\n",
       "      <td>2015-06-21</td>\n",
       "      <td>463</td>\n",
       "      <td>463</td>\n",
       "      <td>4317</td>\n",
       "      <td>REVERSAL</td>\n",
       "      <td>105.48</td>\n",
       "      <td>True</td>\n",
       "      <td>False</td>\n",
       "      <td>False</td>\n",
       "    </tr>\n",
       "    <tr>\n",
       "      <th>151595</th>\n",
       "      <td>100737756</td>\n",
       "      <td>100737756</td>\n",
       "      <td>250</td>\n",
       "      <td>166.68</td>\n",
       "      <td>2016-12-14 21:45:32</td>\n",
       "      <td>522.20</td>\n",
       "      <td>Boston Cafe #465229</td>\n",
       "      <td>US</td>\n",
       "      <td>US</td>\n",
       "      <td>80</td>\n",
       "      <td>...</td>\n",
       "      <td>2015-06-21</td>\n",
       "      <td>2015-06-21</td>\n",
       "      <td>463</td>\n",
       "      <td>463</td>\n",
       "      <td>4317</td>\n",
       "      <td>REVERSAL</td>\n",
       "      <td>83.32</td>\n",
       "      <td>True</td>\n",
       "      <td>False</td>\n",
       "      <td>False</td>\n",
       "    </tr>\n",
       "    <tr>\n",
       "      <th>474247</th>\n",
       "      <td>101376441</td>\n",
       "      <td>101376441</td>\n",
       "      <td>7500</td>\n",
       "      <td>7367.78</td>\n",
       "      <td>2016-07-12 00:44:32</td>\n",
       "      <td>96.63</td>\n",
       "      <td>target.com</td>\n",
       "      <td>US</td>\n",
       "      <td>US</td>\n",
       "      <td>09</td>\n",
       "      <td>...</td>\n",
       "      <td>2015-06-08</td>\n",
       "      <td>2015-06-08</td>\n",
       "      <td>680</td>\n",
       "      <td>680</td>\n",
       "      <td>3110</td>\n",
       "      <td>REVERSAL</td>\n",
       "      <td>132.22</td>\n",
       "      <td>False</td>\n",
       "      <td>False</td>\n",
       "      <td>False</td>\n",
       "    </tr>\n",
       "    <tr>\n",
       "      <th>474250</th>\n",
       "      <td>101376441</td>\n",
       "      <td>101376441</td>\n",
       "      <td>7500</td>\n",
       "      <td>7500.00</td>\n",
       "      <td>2016-08-06 17:23:47</td>\n",
       "      <td>0.00</td>\n",
       "      <td>cheapfast.com</td>\n",
       "      <td>US</td>\n",
       "      <td>US</td>\n",
       "      <td>09</td>\n",
       "      <td>...</td>\n",
       "      <td>2015-06-08</td>\n",
       "      <td>2015-06-08</td>\n",
       "      <td>128</td>\n",
       "      <td>128</td>\n",
       "      <td>6683</td>\n",
       "      <td>REVERSAL</td>\n",
       "      <td>0.00</td>\n",
       "      <td>False</td>\n",
       "      <td>False</td>\n",
       "      <td>False</td>\n",
       "    </tr>\n",
       "    <tr>\n",
       "      <th>3010</th>\n",
       "      <td>101380713</td>\n",
       "      <td>101380713</td>\n",
       "      <td>10000</td>\n",
       "      <td>2560.93</td>\n",
       "      <td>2016-06-22 22:10:22</td>\n",
       "      <td>5.03</td>\n",
       "      <td>sears.com</td>\n",
       "      <td>US</td>\n",
       "      <td>US</td>\n",
       "      <td>02</td>\n",
       "      <td>...</td>\n",
       "      <td>2015-06-01</td>\n",
       "      <td>2016-06-03</td>\n",
       "      <td>551</td>\n",
       "      <td>551</td>\n",
       "      <td>7553</td>\n",
       "      <td>REVERSAL</td>\n",
       "      <td>7439.07</td>\n",
       "      <td>False</td>\n",
       "      <td>False</td>\n",
       "      <td>False</td>\n",
       "    </tr>\n",
       "    <tr>\n",
       "      <th>3052</th>\n",
       "      <td>101380713</td>\n",
       "      <td>101380713</td>\n",
       "      <td>10000</td>\n",
       "      <td>4433.97</td>\n",
       "      <td>2016-10-18 06:54:33</td>\n",
       "      <td>303.72</td>\n",
       "      <td>staples.com</td>\n",
       "      <td>US</td>\n",
       "      <td>US</td>\n",
       "      <td>02</td>\n",
       "      <td>...</td>\n",
       "      <td>2015-06-01</td>\n",
       "      <td>2016-08-28</td>\n",
       "      <td>551</td>\n",
       "      <td>551</td>\n",
       "      <td>7553</td>\n",
       "      <td>REVERSAL</td>\n",
       "      <td>5566.03</td>\n",
       "      <td>False</td>\n",
       "      <td>False</td>\n",
       "      <td>False</td>\n",
       "    </tr>\n",
       "  </tbody>\n",
       "</table>\n",
       "<p>10 rows × 23 columns</p>\n",
       "</div>"
      ],
      "text/plain": [
       "        accountNumber  customerId  creditLimit  availableMoney  \\\n",
       "541964      100088067   100088067        50000        49811.88   \n",
       "87920       100328049   100328049         5000         4605.10   \n",
       "87936       100328049   100328049         5000         3792.09   \n",
       "151499      100737756   100737756          250          119.51   \n",
       "151541      100737756   100737756          250          144.52   \n",
       "151595      100737756   100737756          250          166.68   \n",
       "474247      101376441   101376441         7500         7367.78   \n",
       "474250      101376441   101376441         7500         7500.00   \n",
       "3010        101380713   101380713        10000         2560.93   \n",
       "3052        101380713   101380713        10000         4433.97   \n",
       "\n",
       "       transactionDateTime  transactionAmount         merchantName acqCountry  \\\n",
       "541964 2016-11-20 08:00:04              22.32           AMC #79863         US   \n",
       "87920  2016-01-15 20:36:18              43.74                 Lyft         US   \n",
       "87936  2016-03-26 17:35:09             284.97    McDonalds #423357         US   \n",
       "151499 2016-06-06 22:56:52              93.67     34th BBQ #436606         US   \n",
       "151541 2016-08-24 20:21:19             501.29  Best Bistro #262998         US   \n",
       "151595 2016-12-14 21:45:32             522.20  Boston Cafe #465229         US   \n",
       "474247 2016-07-12 00:44:32              96.63           target.com         US   \n",
       "474250 2016-08-06 17:23:47               0.00        cheapfast.com         US   \n",
       "3010   2016-06-22 22:10:22               5.03            sears.com         US   \n",
       "3052   2016-10-18 06:54:33             303.72          staples.com         US   \n",
       "\n",
       "       merchantCountryCode posEntryMode  ... accountOpenDate  \\\n",
       "541964                  US           09  ...      2014-01-09   \n",
       "87920                   US           09  ...      2014-01-07   \n",
       "87936                   US           02  ...      2014-01-07   \n",
       "151499                  US           05  ...      2015-06-21   \n",
       "151541                  US           05  ...      2015-06-21   \n",
       "151595                  US           80  ...      2015-06-21   \n",
       "474247                  US           09  ...      2015-06-08   \n",
       "474250                  US           09  ...      2015-06-08   \n",
       "3010                    US           02  ...      2015-06-01   \n",
       "3052                    US           02  ...      2015-06-01   \n",
       "\n",
       "       dateOfLastAddressChange cardCVV enteredCVV cardLast4Digits  \\\n",
       "541964              2014-01-09     546        546            4615   \n",
       "87920               2014-01-07     206        206            2941   \n",
       "87936               2014-01-07     206        206            2941   \n",
       "151499              2015-06-21     463        463            4317   \n",
       "151541              2015-06-21     463        463            4317   \n",
       "151595              2015-06-21     463        463            4317   \n",
       "474247              2015-06-08     680        680            3110   \n",
       "474250              2015-06-08     128        128            6683   \n",
       "3010                2016-06-03     551        551            7553   \n",
       "3052                2016-08-28     551        551            7553   \n",
       "\n",
       "        transactionType  currentBalance  cardPresent expirationDateKeyInMatch  \\\n",
       "541964         REVERSAL          188.12         True                    False   \n",
       "87920          REVERSAL          394.90        False                    False   \n",
       "87936          REVERSAL         1207.91         True                    False   \n",
       "151499         REVERSAL          130.49         True                    False   \n",
       "151541         REVERSAL          105.48         True                    False   \n",
       "151595         REVERSAL           83.32         True                    False   \n",
       "474247         REVERSAL          132.22        False                    False   \n",
       "474250         REVERSAL            0.00        False                    False   \n",
       "3010           REVERSAL         7439.07        False                    False   \n",
       "3052           REVERSAL         5566.03        False                    False   \n",
       "\n",
       "        isFraud  \n",
       "541964    False  \n",
       "87920     False  \n",
       "87936     False  \n",
       "151499    False  \n",
       "151541    False  \n",
       "151595    False  \n",
       "474247    False  \n",
       "474250    False  \n",
       "3010      False  \n",
       "3052      False  \n",
       "\n",
       "[10 rows x 23 columns]"
      ]
     },
     "execution_count": 26,
     "metadata": {},
     "output_type": "execute_result"
    }
   ],
   "source": [
    "trans_sorted[trans_sorted['transactionType'] == 'REVERSAL'].head(10)"
   ]
  },
  {
   "cell_type": "code",
   "execution_count": 27,
   "id": "ea3bd5ec",
   "metadata": {},
   "outputs": [],
   "source": [
    "#change the data type\n",
    "trans_sorted['transactionAmount'] = trans_sorted['transactionAmount'].astype(float)\n",
    "\n",
    "#find the duplicate transaction\n",
    "trans_sorted['Duplicated'] = trans_sorted.groupby(['accountNumber', 'transactionAmount'], sort=False)['transactionDateTime'] \\\n",
    "    .apply(lambda x: x.diff().dt.total_seconds().lt(120))"
   ]
  },
  {
   "cell_type": "code",
   "execution_count": 28,
   "id": "bd67f501",
   "metadata": {
    "scrolled": true
   },
   "outputs": [
    {
     "data": {
      "text/html": [
       "<div>\n",
       "<style scoped>\n",
       "    .dataframe tbody tr th:only-of-type {\n",
       "        vertical-align: middle;\n",
       "    }\n",
       "\n",
       "    .dataframe tbody tr th {\n",
       "        vertical-align: top;\n",
       "    }\n",
       "\n",
       "    .dataframe thead th {\n",
       "        text-align: right;\n",
       "    }\n",
       "</style>\n",
       "<table border=\"1\" class=\"dataframe\">\n",
       "  <thead>\n",
       "    <tr style=\"text-align: right;\">\n",
       "      <th></th>\n",
       "      <th>accountNumber</th>\n",
       "      <th>customerId</th>\n",
       "      <th>creditLimit</th>\n",
       "      <th>availableMoney</th>\n",
       "      <th>transactionDateTime</th>\n",
       "      <th>transactionAmount</th>\n",
       "      <th>merchantName</th>\n",
       "      <th>acqCountry</th>\n",
       "      <th>merchantCountryCode</th>\n",
       "      <th>posEntryMode</th>\n",
       "      <th>...</th>\n",
       "      <th>dateOfLastAddressChange</th>\n",
       "      <th>cardCVV</th>\n",
       "      <th>enteredCVV</th>\n",
       "      <th>cardLast4Digits</th>\n",
       "      <th>transactionType</th>\n",
       "      <th>currentBalance</th>\n",
       "      <th>cardPresent</th>\n",
       "      <th>expirationDateKeyInMatch</th>\n",
       "      <th>isFraud</th>\n",
       "      <th>Duplicated</th>\n",
       "    </tr>\n",
       "  </thead>\n",
       "  <tbody>\n",
       "    <tr>\n",
       "      <th>541900</th>\n",
       "      <td>100088067</td>\n",
       "      <td>100088067</td>\n",
       "      <td>50000</td>\n",
       "      <td>50000.00</td>\n",
       "      <td>2016-01-12 00:59:52</td>\n",
       "      <td>205.13</td>\n",
       "      <td>EZ Putt Putt #982199</td>\n",
       "      <td>US</td>\n",
       "      <td>US</td>\n",
       "      <td>02</td>\n",
       "      <td>...</td>\n",
       "      <td>2014-01-09</td>\n",
       "      <td>546</td>\n",
       "      <td>546</td>\n",
       "      <td>4615</td>\n",
       "      <td>PURCHASE</td>\n",
       "      <td>0.00</td>\n",
       "      <td>True</td>\n",
       "      <td>False</td>\n",
       "      <td>False</td>\n",
       "      <td>False</td>\n",
       "    </tr>\n",
       "    <tr>\n",
       "      <th>541901</th>\n",
       "      <td>100088067</td>\n",
       "      <td>100088067</td>\n",
       "      <td>50000</td>\n",
       "      <td>49794.87</td>\n",
       "      <td>2016-01-12 19:49:41</td>\n",
       "      <td>46.43</td>\n",
       "      <td>Dinosaur Sandwitch Bar #303701</td>\n",
       "      <td>US</td>\n",
       "      <td>US</td>\n",
       "      <td>05</td>\n",
       "      <td>...</td>\n",
       "      <td>2014-01-09</td>\n",
       "      <td>546</td>\n",
       "      <td>546</td>\n",
       "      <td>4615</td>\n",
       "      <td>PURCHASE</td>\n",
       "      <td>205.13</td>\n",
       "      <td>True</td>\n",
       "      <td>False</td>\n",
       "      <td>False</td>\n",
       "      <td>False</td>\n",
       "    </tr>\n",
       "    <tr>\n",
       "      <th>541902</th>\n",
       "      <td>100088067</td>\n",
       "      <td>100088067</td>\n",
       "      <td>50000</td>\n",
       "      <td>49748.44</td>\n",
       "      <td>2016-01-17 15:41:46</td>\n",
       "      <td>378.67</td>\n",
       "      <td>Mobile eCards</td>\n",
       "      <td>US</td>\n",
       "      <td>US</td>\n",
       "      <td>05</td>\n",
       "      <td>...</td>\n",
       "      <td>2014-01-09</td>\n",
       "      <td>402</td>\n",
       "      <td>402</td>\n",
       "      <td>2077</td>\n",
       "      <td>PURCHASE</td>\n",
       "      <td>251.56</td>\n",
       "      <td>False</td>\n",
       "      <td>False</td>\n",
       "      <td>False</td>\n",
       "      <td>False</td>\n",
       "    </tr>\n",
       "    <tr>\n",
       "      <th>541903</th>\n",
       "      <td>100088067</td>\n",
       "      <td>100088067</td>\n",
       "      <td>50000</td>\n",
       "      <td>50000.00</td>\n",
       "      <td>2016-02-02 19:57:18</td>\n",
       "      <td>66.07</td>\n",
       "      <td>EZ Putt Putt #40513</td>\n",
       "      <td>US</td>\n",
       "      <td>US</td>\n",
       "      <td>02</td>\n",
       "      <td>...</td>\n",
       "      <td>2014-01-09</td>\n",
       "      <td>546</td>\n",
       "      <td>546</td>\n",
       "      <td>4615</td>\n",
       "      <td>PURCHASE</td>\n",
       "      <td>0.00</td>\n",
       "      <td>True</td>\n",
       "      <td>False</td>\n",
       "      <td>False</td>\n",
       "      <td>False</td>\n",
       "    </tr>\n",
       "    <tr>\n",
       "      <th>541904</th>\n",
       "      <td>100088067</td>\n",
       "      <td>100088067</td>\n",
       "      <td>50000</td>\n",
       "      <td>49933.93</td>\n",
       "      <td>2016-02-03 04:48:54</td>\n",
       "      <td>141.60</td>\n",
       "      <td>34th BBQ #412895</td>\n",
       "      <td>US</td>\n",
       "      <td>US</td>\n",
       "      <td>09</td>\n",
       "      <td>...</td>\n",
       "      <td>2014-01-09</td>\n",
       "      <td>546</td>\n",
       "      <td>546</td>\n",
       "      <td>4615</td>\n",
       "      <td>PURCHASE</td>\n",
       "      <td>66.07</td>\n",
       "      <td>True</td>\n",
       "      <td>False</td>\n",
       "      <td>False</td>\n",
       "      <td>False</td>\n",
       "    </tr>\n",
       "  </tbody>\n",
       "</table>\n",
       "<p>5 rows × 24 columns</p>\n",
       "</div>"
      ],
      "text/plain": [
       "        accountNumber  customerId  creditLimit  availableMoney  \\\n",
       "541900      100088067   100088067        50000        50000.00   \n",
       "541901      100088067   100088067        50000        49794.87   \n",
       "541902      100088067   100088067        50000        49748.44   \n",
       "541903      100088067   100088067        50000        50000.00   \n",
       "541904      100088067   100088067        50000        49933.93   \n",
       "\n",
       "       transactionDateTime  transactionAmount                    merchantName  \\\n",
       "541900 2016-01-12 00:59:52             205.13            EZ Putt Putt #982199   \n",
       "541901 2016-01-12 19:49:41              46.43  Dinosaur Sandwitch Bar #303701   \n",
       "541902 2016-01-17 15:41:46             378.67                   Mobile eCards   \n",
       "541903 2016-02-02 19:57:18              66.07             EZ Putt Putt #40513   \n",
       "541904 2016-02-03 04:48:54             141.60                34th BBQ #412895   \n",
       "\n",
       "       acqCountry merchantCountryCode posEntryMode  ...  \\\n",
       "541900         US                  US           02  ...   \n",
       "541901         US                  US           05  ...   \n",
       "541902         US                  US           05  ...   \n",
       "541903         US                  US           02  ...   \n",
       "541904         US                  US           09  ...   \n",
       "\n",
       "       dateOfLastAddressChange cardCVV enteredCVV cardLast4Digits  \\\n",
       "541900              2014-01-09     546        546            4615   \n",
       "541901              2014-01-09     546        546            4615   \n",
       "541902              2014-01-09     402        402            2077   \n",
       "541903              2014-01-09     546        546            4615   \n",
       "541904              2014-01-09     546        546            4615   \n",
       "\n",
       "       transactionType  currentBalance  cardPresent  expirationDateKeyInMatch  \\\n",
       "541900        PURCHASE            0.00         True                     False   \n",
       "541901        PURCHASE          205.13         True                     False   \n",
       "541902        PURCHASE          251.56        False                     False   \n",
       "541903        PURCHASE            0.00         True                     False   \n",
       "541904        PURCHASE           66.07         True                     False   \n",
       "\n",
       "       isFraud  Duplicated  \n",
       "541900   False       False  \n",
       "541901   False       False  \n",
       "541902   False       False  \n",
       "541903   False       False  \n",
       "541904   False       False  \n",
       "\n",
       "[5 rows x 24 columns]"
      ]
     },
     "execution_count": 28,
     "metadata": {},
     "output_type": "execute_result"
    }
   ],
   "source": [
    "trans_sorted.head()"
   ]
  },
  {
   "cell_type": "code",
   "execution_count": 29,
   "id": "f30d18e1",
   "metadata": {},
   "outputs": [
    {
     "data": {
      "text/plain": [
       "PURCHASE                4913\n",
       "REVERSAL                3824\n",
       "ADDRESS_VERIFICATION     137\n",
       "                           8\n",
       "Name: transactionType, dtype: int64"
      ]
     },
     "execution_count": 29,
     "metadata": {},
     "output_type": "execute_result"
    }
   ],
   "source": [
    "\n",
    "trans_sorted[trans_sorted['Duplicated'] == True]['transactionType'].value_counts()"
   ]
  },
  {
   "cell_type": "code",
   "execution_count": 30,
   "id": "938b5f6f",
   "metadata": {},
   "outputs": [
    {
     "data": {
      "text/plain": [
       "False    782539\n",
       "True       3824\n",
       "Name: is_reversal_duplicate, dtype: int64"
      ]
     },
     "execution_count": 30,
     "metadata": {},
     "output_type": "execute_result"
    }
   ],
   "source": [
    "#find the reversal transaction with transaction type\n",
    "trans_sorted['is_reversal_duplicate'] = (trans_sorted['transactionType'] == 'REVERSAL') & (trans_sorted['Duplicated'] == True)\n",
    "trans_sorted['is_reversal_duplicate'].value_counts()"
   ]
  },
  {
   "cell_type": "code",
   "execution_count": 31,
   "id": "06c51d8e",
   "metadata": {},
   "outputs": [
    {
     "data": {
      "text/plain": [
       "562291.8899999999"
      ]
     },
     "execution_count": 31,
     "metadata": {},
     "output_type": "execute_result"
    }
   ],
   "source": [
    "#find the fraud counts and total fraud amount in reversal transaction\n",
    "re_fruad_counts = trans_sorted[(trans_sorted['is_reversal_duplicate'] == True) & (trans_sorted['isFraud']==1)]['transactionAmount'].value_counts()\n",
    "re_fraud_amount = trans_sorted[(trans_sorted['is_reversal_duplicate'] == True) & (trans_sorted['isFraud']==1)]['transactionAmount'].sum()\n",
    "\n",
    "trans_sorted[trans_sorted['is_reversal_duplicate'] == True]['transactionAmount'].sum()"
   ]
  },
  {
   "cell_type": "code",
   "execution_count": 32,
   "id": "3ba76426",
   "metadata": {},
   "outputs": [
    {
     "data": {
      "text/plain": [
       "False    781305\n",
       "True       5058\n",
       "Name: is_multi_transaction, dtype: int64"
      ]
     },
     "execution_count": 32,
     "metadata": {},
     "output_type": "execute_result"
    }
   ],
   "source": [
    "#find the muti-transaction with transaction type\n",
    "trans_sorted['is_multi_transaction'] =(trans_sorted['transactionType'] != 'REVERSAL') & (trans_sorted['Duplicated'] == True)\n",
    "trans_sorted['is_multi_transaction'].value_counts()"
   ]
  },
  {
   "cell_type": "code",
   "execution_count": 33,
   "id": "d236dc48",
   "metadata": {},
   "outputs": [
    {
     "data": {
      "text/plain": [
       "742053.52"
      ]
     },
     "execution_count": 33,
     "metadata": {},
     "output_type": "execute_result"
    }
   ],
   "source": [
    "#find the fraud counts and total fraud amount in reversal transaction\n",
    "mu_fruad_counts = trans_sorted[(trans_sorted['is_multi_transaction'] == True) & (trans_sorted['isFraud']==1)]['transactionAmount'].value_counts()\n",
    "mu_fraud_amount = trans_sorted[(trans_sorted['is_multi_transaction'] == True) & (trans_sorted['isFraud']==1)]['transactionAmount'].sum()\n",
    "\n",
    "trans_sorted[trans_sorted['is_multi_transaction'] == True]['transactionAmount'].sum()"
   ]
  },
  {
   "cell_type": "code",
   "execution_count": 34,
   "id": "1e129e34",
   "metadata": {},
   "outputs": [
    {
     "data": {
      "text/html": [
       "<div>\n",
       "<style scoped>\n",
       "    .dataframe tbody tr th:only-of-type {\n",
       "        vertical-align: middle;\n",
       "    }\n",
       "\n",
       "    .dataframe tbody tr th {\n",
       "        vertical-align: top;\n",
       "    }\n",
       "\n",
       "    .dataframe thead th {\n",
       "        text-align: right;\n",
       "    }\n",
       "</style>\n",
       "<table border=\"1\" class=\"dataframe\">\n",
       "  <thead>\n",
       "    <tr style=\"text-align: right;\">\n",
       "      <th></th>\n",
       "      <th>Total Reversed Transaction Amount</th>\n",
       "      <th>Total Multi-Transaction Amount</th>\n",
       "      <th>Total Transaction Amount</th>\n",
       "      <th>Total Fraud Amount</th>\n",
       "      <th>Reversed Transaction Fraud Amount</th>\n",
       "      <th>Muti-Transaction Fraud Amount</th>\n",
       "      <th>Reversed Transaction Fraud Amount Percantage</th>\n",
       "      <th>Muti-Transaction Fraud Amount Percentage</th>\n",
       "      <th>Total Fraud Amount Percentage</th>\n",
       "      <th>Average Reversal Transaction Amount</th>\n",
       "      <th>Average Muti-Transaction Amount</th>\n",
       "    </tr>\n",
       "  </thead>\n",
       "  <tbody>\n",
       "    <tr>\n",
       "      <th>0</th>\n",
       "      <td>562291.89</td>\n",
       "      <td>742053.52</td>\n",
       "      <td>1.077206e+08</td>\n",
       "      <td>2796505.89</td>\n",
       "      <td>17144.17</td>\n",
       "      <td>17781.61</td>\n",
       "      <td>3.04898</td>\n",
       "      <td>2.396271</td>\n",
       "      <td>2.596074</td>\n",
       "      <td>147.042858</td>\n",
       "      <td>146.708881</td>\n",
       "    </tr>\n",
       "  </tbody>\n",
       "</table>\n",
       "</div>"
      ],
      "text/plain": [
       "   Total Reversed Transaction Amount  Total Multi-Transaction Amount  \\\n",
       "0                          562291.89                       742053.52   \n",
       "\n",
       "   Total Transaction Amount  Total Fraud Amount  \\\n",
       "0              1.077206e+08          2796505.89   \n",
       "\n",
       "   Reversed Transaction Fraud Amount  Muti-Transaction Fraud Amount  \\\n",
       "0                           17144.17                       17781.61   \n",
       "\n",
       "   Reversed Transaction Fraud Amount Percantage  \\\n",
       "0                                       3.04898   \n",
       "\n",
       "   Muti-Transaction Fraud Amount Percentage  Total Fraud Amount Percentage  \\\n",
       "0                                  2.396271                       2.596074   \n",
       "\n",
       "   Average Reversal Transaction Amount  Average Muti-Transaction Amount  \n",
       "0                           147.042858                       146.708881  "
      ]
     },
     "execution_count": 34,
     "metadata": {},
     "output_type": "execute_result"
    }
   ],
   "source": [
    "#report outputs\n",
    "total_reversed_transaction = trans_sorted[trans_sorted['is_reversal_duplicate'] == True]['transactionAmount'].sum()\n",
    "total_multi_transaction = trans_sorted[trans_sorted['is_multi_transaction'] == True]['transactionAmount'].sum()\n",
    "total_transaction = trans_sorted['transactionAmount'].sum()\n",
    "total_fraud = trans_sorted[trans_sorted['isFraud'] == True]['transactionAmount'].sum()\n",
    "re_fraud_amount_percentage = re_fraud_amount/total_reversed_transaction*100\n",
    "mu_fraud_amount_percentage = mu_fraud_amount/total_multi_transaction*100\n",
    "\n",
    "\n",
    "data = {'Total Reversed Transaction Amount': [total_reversed_transaction],\n",
    "        'Total Multi-Transaction Amount': [total_multi_transaction],\n",
    "        'Total Transaction Amount': [total_transaction],\n",
    "        'Total Fraud Amount': [total_fraud],\n",
    "        'Reversed Transaction Fraud Amount': [re_fraud_amount],\n",
    "        'Muti-Transaction Fraud Amount': [mu_fraud_amount],\n",
    "        'Reversed Transaction Fraud Amount Percantage': [re_fraud_amount_percentage],\n",
    "        'Muti-Transaction Fraud Amount Percentage': [mu_fraud_amount_percentage],\n",
    "        'Total Fraud Amount Percentage': [total_fraud/total_transaction*100],\n",
    "        'Average Reversal Transaction Amount': [562291.89/3824],\n",
    "        'Average Muti-Transaction Amount': [742053.52/5058]}\n",
    "\n",
    "# Create DataFrame\n",
    "df = pd.DataFrame(data)\n",
    "df\n"
   ]
  },
  {
   "cell_type": "markdown",
   "id": "315c08c2",
   "metadata": {},
   "source": [
    "# Finds"
   ]
  },
  {
   "cell_type": "markdown",
   "id": "95466974",
   "metadata": {},
   "source": [
    "<font size=\"3\">\n",
    "    The average transaction amount between Reversal Transaction and Muti-transaction is similar\n",
    "    \n",
    "</font>"
   ]
  },
  {
   "cell_type": "markdown",
   "id": "416a1bba",
   "metadata": {},
   "source": [
    "# Feature Engineering"
   ]
  },
  {
   "cell_type": "code",
   "execution_count": 35,
   "id": "b4da3277",
   "metadata": {},
   "outputs": [
    {
     "data": {
      "text/plain": [
       "0.0920694386689099"
      ]
     },
     "execution_count": 35,
     "metadata": {},
     "output_type": "execute_result"
    }
   ],
   "source": [
    "percentage_missing_merchant_country = 724/786363 * 100\n",
    "percentage_missing_merchant_country"
   ]
  },
  {
   "cell_type": "markdown",
   "id": "90980cbe",
   "metadata": {},
   "source": [
    "<font size=\"3\">\n",
    "In this case, I will assume the missing value in merchant country part is US, due to the major merchant country is purchase and the missing value is only 0.09% of total datasize.\n",
    "    \n",
    "</font>\n"
   ]
  },
  {
   "cell_type": "code",
   "execution_count": 36,
   "id": "262c79e4",
   "metadata": {},
   "outputs": [],
   "source": [
    "#change the data type\n",
    "trans_sorted['accountOpenDate'] = pd.to_datetime(trans_sorted['accountOpenDate'])"
   ]
  },
  {
   "cell_type": "code",
   "execution_count": 37,
   "id": "a2f5641f",
   "metadata": {},
   "outputs": [],
   "source": [
    "#add 4 new features\n",
    "trans_sorted['date_diff_trans_open'] = trans_sorted['transactionDateTime'] - trans_sorted['accountOpenDate']\n",
    "trans_sorted['percentage_trans_available'] = trans_sorted['transactionAmount'] / trans_sorted['availableMoney'] * 100\n",
    "trans_sorted['percentage_trans_limit'] =  trans_sorted['transactionAmount'] / trans_sorted['creditLimit'] * 100\n",
    "trans_sorted['outside_US'] = (trans_sorted['merchantCountryCode'] != 'US') | (trans_sorted['merchantCountryCode'] == '')"
   ]
  },
  {
   "cell_type": "markdown",
   "id": "60b9074b",
   "metadata": {},
   "source": [
    "   get the total fruads of each account"
   ]
  },
  {
   "cell_type": "code",
   "execution_count": 38,
   "id": "f783d50e",
   "metadata": {},
   "outputs": [],
   "source": [
    "#create a table to see each account's fraud counts\n",
    "df_fraud_count = trans_sorted.groupby(['accountNumber'])['isFraud'].sum().reset_index()\n",
    "df_fraud_count['Fraud_counts'] = df_fraud_count['isFraud']\n",
    "df_fraud_count.drop('isFraud', axis = 1, inplace=True)\n",
    "df_trans_count = trans_sorted.groupby(['accountNumber'])['isFraud'].size().reset_index(name = 'Transaction_counts')\n",
    "df_fraud_trans_count = pd.merge(df_fraud_count, df_trans_count, on='accountNumber')\n",
    "df_fraud_trans_count['Fraud_percentage'] = df_fraud_trans_count['Fraud_counts'] / df_fraud_trans_count['Transaction_counts'] * 100 "
   ]
  },
  {
   "cell_type": "code",
   "execution_count": 39,
   "id": "6885292d",
   "metadata": {},
   "outputs": [
    {
     "name": "stdout",
     "output_type": "stream",
     "text": [
      "<class 'pandas.core.frame.DataFrame'>\n",
      "Int64Index: 5000 entries, 0 to 4999\n",
      "Data columns (total 4 columns):\n",
      " #   Column              Non-Null Count  Dtype  \n",
      "---  ------              --------------  -----  \n",
      " 0   accountNumber       5000 non-null   int64  \n",
      " 1   Fraud_counts        5000 non-null   int64  \n",
      " 2   Transaction_counts  5000 non-null   int64  \n",
      " 3   Fraud_percentage    5000 non-null   float64\n",
      "dtypes: float64(1), int64(3)\n",
      "memory usage: 195.3 KB\n"
     ]
    }
   ],
   "source": [
    "df_fraud_trans_count.info()"
   ]
  },
  {
   "cell_type": "markdown",
   "id": "3985d15c",
   "metadata": {},
   "source": [
    "# Modeling "
   ]
  },
  {
   "cell_type": "markdown",
   "id": "56f4efaf",
   "metadata": {},
   "source": [
    "<font size=\"1\">\n",
    "first, we will use the orginal data without resampling.\n",
    "</font> "
   ]
  },
  {
   "cell_type": "markdown",
   "id": "e6f1fe86",
   "metadata": {},
   "source": [
    "# Feature Selection"
   ]
  },
  {
   "cell_type": "code",
   "execution_count": 40,
   "id": "5a0d0441",
   "metadata": {},
   "outputs": [
    {
     "data": {
      "text/plain": [
       "Index(['accountNumber', 'customerId', 'creditLimit', 'availableMoney',\n",
       "       'transactionDateTime', 'transactionAmount', 'merchantName',\n",
       "       'acqCountry', 'merchantCountryCode', 'posEntryMode', 'posConditionCode',\n",
       "       'merchantCategoryCode', 'currentExpDate', 'accountOpenDate',\n",
       "       'dateOfLastAddressChange', 'cardCVV', 'enteredCVV', 'cardLast4Digits',\n",
       "       'transactionType', 'currentBalance', 'cardPresent',\n",
       "       'expirationDateKeyInMatch', 'isFraud', 'Duplicated',\n",
       "       'is_reversal_duplicate', 'is_multi_transaction', 'date_diff_trans_open',\n",
       "       'percentage_trans_available', 'percentage_trans_limit', 'outside_US'],\n",
       "      dtype='object')"
      ]
     },
     "execution_count": 40,
     "metadata": {},
     "output_type": "execute_result"
    }
   ],
   "source": [
    "trans_sorted.columns"
   ]
  },
  {
   "cell_type": "code",
   "execution_count": 61,
   "id": "f3e57804",
   "metadata": {},
   "outputs": [
    {
     "data": {
      "image/png": "[encoded data removed]",
      "text/plain": [
       "<Figure size 1000x1000 with 2 Axes>"
      ]
     },
     "metadata": {
      "needs_background": "light"
     },
     "output_type": "display_data"
    }
   ],
   "source": [
    "# Calculate correlation matrix\n",
    "corr = trans_sorted.corr().round(2)\n",
    "\n",
    "\n",
    "plt.figure(figsize=(10, 10), dpi=100)\n",
    "\n",
    "sns.heatmap(corr, cmap=\"YlGnBu\", annot=True)\n",
    "plt.show()"
   ]
  },
  {
   "cell_type": "code",
   "execution_count": 42,
   "id": "0315b965",
   "metadata": {},
   "outputs": [
    {
     "name": "stderr",
     "output_type": "stream",
     "text": [
      "C:\\Users\\fjxpp\\AppData\\Local\\Temp\\ipykernel_21472\\2299330992.py:2: SettingWithCopyWarning: \n",
      "A value is trying to be set on a copy of a slice from a DataFrame.\n",
      "Try using .loc[row_indexer,col_indexer] = value instead\n",
      "\n",
      "See the caveats in the documentation: https://pandas.pydata.org/pandas-docs/stable/user_guide/indexing.html#returning-a-view-versus-a-copy\n",
      "  df_standard.loc[:, 'transactionDateTime'] = df_standard['transactionDateTime'].astype('int64')\n",
      "C:\\Users\\fjxpp\\AppData\\Local\\Temp\\ipykernel_21472\\2299330992.py:3: SettingWithCopyWarning: \n",
      "A value is trying to be set on a copy of a slice from a DataFrame.\n",
      "Try using .loc[row_indexer,col_indexer] = value instead\n",
      "\n",
      "See the caveats in the documentation: https://pandas.pydata.org/pandas-docs/stable/user_guide/indexing.html#returning-a-view-versus-a-copy\n",
      "  df_standard.loc[:, 'date_diff_trans_open'] = df_standard['transactionDateTime'].astype('int64')\n"
     ]
    }
   ],
   "source": [
    "df_standard = trans_sorted[['creditLimit', 'availableMoney', 'transactionDateTime', 'transactionAmount', 'currentBalance', 'cardPresent', 'expirationDateKeyInMatch', 'Duplicated', 'is_reversal_duplicate', 'is_multi_transaction', 'date_diff_trans_open', 'percentage_trans_available', 'percentage_trans_limit', 'outside_US', 'isFraud']]\n",
    "df_standard.loc[:, 'transactionDateTime'] = df_standard['transactionDateTime'].astype('int64')\n",
    "df_standard.loc[:, 'date_diff_trans_open'] = df_standard['transactionDateTime'].astype('int64')\n",
    "\n",
    "x = df_standard.iloc[:,:-1]\n",
    "y = df_standard.iloc[:,-1]"
   ]
  },
  {
   "cell_type": "markdown",
   "id": "fa9558b1",
   "metadata": {},
   "source": [
    "# Split data in to train group and test group"
   ]
  },
  {
   "cell_type": "code",
   "execution_count": 43,
   "id": "5dba581d",
   "metadata": {},
   "outputs": [],
   "source": [
    "from sklearn.model_selection import train_test_split\n",
    "x_train,x_test,y_train,y_test=train_test_split(x,y,test_size=0.2,random_state=11)"
   ]
  },
  {
   "cell_type": "code",
   "execution_count": 44,
   "id": "888f8b7c",
   "metadata": {},
   "outputs": [],
   "source": [
    "x = df_standard.iloc[:,:-1]\n",
    "y = df_standard.iloc[:,-1]"
   ]
  },
  {
   "cell_type": "markdown",
   "id": "b723d019",
   "metadata": {},
   "source": [
    "# XG-Boost\n",
    "\n",
    "<font size=\"1\">\n",
    "XG-Boost can automatically weight data, which means it can work well in the imbalanced dataset (fraud detection).\n",
    "</font> "
   ]
  },
  {
   "cell_type": "code",
   "execution_count": 45,
   "id": "b8712a38",
   "metadata": {},
   "outputs": [],
   "source": [
    "import xgboost as xgb\n",
    "\n",
    "params = {\n",
    "    'n_jobs': -1,\n",
    "    'objective': 'binary:logistic',\n",
    "    'eval_metric': 'auc',\n",
    "    'max_depth': 5,\n",
    "    'learning_rate': 0.1,\n",
    "    'subsample': 0.8,\n",
    "    'colsample_bytree': 0.8,\n",
    "    'reg_alpha': 0.1,\n",
    "    'reg_lambda': 1,\n",
    "    'random_state': 11\n",
    "}\n",
    "\n",
    "clf = xgb.XGBClassifier(**params)"
   ]
  },
  {
   "cell_type": "code",
   "execution_count": 46,
   "id": "a717e515",
   "metadata": {
    "scrolled": true
   },
   "outputs": [
    {
     "data": {
      "text/plain": [
       "XGBClassifier(base_score=None, booster=None, callbacks=None,\n",
       "              colsample_bylevel=None, colsample_bynode=None,\n",
       "              colsample_bytree=0.8, early_stopping_rounds=None,\n",
       "              enable_categorical=False, eval_metric='auc', feature_types=None,\n",
       "              gamma=None, gpu_id=None, grow_policy=None, importance_type=None,\n",
       "              interaction_constraints=None, learning_rate=0.1, max_bin=None,\n",
       "              max_cat_threshold=None, max_cat_to_onehot=None,\n",
       "              max_delta_step=None, max_depth=5, max_leaves=None,\n",
       "              min_child_weight=None, missing=nan, monotone_constraints=None,\n",
       "              n_estimators=100, n_jobs=-1, num_parallel_tree=None,\n",
       "              predictor=None, random_state=11, ...)"
      ]
     },
     "execution_count": 46,
     "metadata": {},
     "output_type": "execute_result"
    }
   ],
   "source": [
    "clf.fit(x_train,y_train)"
   ]
  },
  {
   "cell_type": "code",
   "execution_count": 47,
   "id": "61e74ac1",
   "metadata": {},
   "outputs": [
    {
     "name": "stdout",
     "output_type": "stream",
     "text": [
      "Mean ROC AUC: 0.707\n",
      "Accuracy Score: 98.445\n"
     ]
    }
   ],
   "source": [
    "y_pred_test = clf.predict(x_test)\n",
    "\n",
    "\n",
    "# evaluate model\n",
    "from sklearn.model_selection import cross_val_score\n",
    "from sklearn.model_selection import RepeatedStratifiedKFold\n",
    "from sklearn.metrics import accuracy_score\n",
    "\n",
    "cv = RepeatedStratifiedKFold(n_splits=3, n_repeats=3, random_state=11)\n",
    "scores = cross_val_score(clf, x, y, scoring='roc_auc', cv=cv, n_jobs=-1)\n",
    "ac=accuracy_score(y_pred_test,y_test)*100\n",
    "# summarize performance\n",
    "print('Mean ROC AUC: %.3f' % statistics.mean(scores))\n",
    "print('Accuracy Score: %.3f' % ac)"
   ]
  },
  {
   "cell_type": "code",
   "execution_count": 48,
   "id": "7d97b250",
   "metadata": {
    "scrolled": true
   },
   "outputs": [
    {
     "data": {
      "image/png": "[encoded data removed]",
      "text/plain": [
       "<Figure size 504x288 with 1 Axes>"
      ]
     },
     "metadata": {
      "needs_background": "light"
     },
     "output_type": "display_data"
    }
   ],
   "source": [
    "tmp = pd.DataFrame({'Feature': df_standard.columns[:-1], 'Feature importance': clf.feature_importances_})\n",
    "tmp = tmp.sort_values(by='Feature importance',ascending=False)\n",
    "plt.figure(figsize = (7,4))\n",
    "plt.title('Features importance',fontsize=14)\n",
    "s = sns.barplot(x='Feature',y='Feature importance',data=tmp)\n",
    "s.set_xticklabels(s.get_xticklabels(),rotation=90)\n",
    "plt.show()   "
   ]
  },
  {
   "cell_type": "markdown",
   "id": "82261e20",
   "metadata": {},
   "source": []
  },
  {
   "cell_type": "markdown",
   "id": "4a220a87",
   "metadata": {},
   "source": [
    "# Resampling(over_sample)"
   ]
  },
  {
   "cell_type": "markdown",
   "id": "0f76fc99",
   "metadata": {},
   "source": [
    "<font size=\"1\">\n",
    "I use over-smaple tool from imblearn in this case.\n",
    "</font>"
   ]
  },
  {
   "cell_type": "code",
   "execution_count": 49,
   "id": "d4920c79",
   "metadata": {},
   "outputs": [],
   "source": [
    "x = df_standard.iloc[:,:-1]\n",
    "y = df_standard.iloc[:,-1]\n",
    "\n",
    "from imblearn.over_sampling import SMOTE\n",
    "\n",
    "x_resampled, y_resampled = SMOTE().fit_resample(x, y)"
   ]
  },
  {
   "cell_type": "markdown",
   "id": "c950e3e8",
   "metadata": {},
   "source": [
    "# Random Forest after Resampling \n",
    "\n",
    "<font size=\"1\">\n",
    "Random Forest is good at handle&nbsp;high-dimensional datasets with a large number of features. But for the imbalance data we need to resample the data first.\n",
    "</font> "
   ]
  },
  {
   "cell_type": "code",
   "execution_count": 50,
   "id": "d7af6f71",
   "metadata": {},
   "outputs": [],
   "source": [
    "x_train,x_test,y_train,y_test=train_test_split(x_resampled,y_resampled,test_size=0.2,random_state=11)"
   ]
  },
  {
   "cell_type": "code",
   "execution_count": 51,
   "id": "972ceace",
   "metadata": {},
   "outputs": [],
   "source": [
    "from sklearn.ensemble import RandomForestClassifier\n",
    "clf = RandomForestClassifier(criterion='gini',\n",
    "                             n_estimators=100,\n",
    "                             verbose=False)"
   ]
  },
  {
   "cell_type": "code",
   "execution_count": 52,
   "id": "4a5eda7c",
   "metadata": {},
   "outputs": [
    {
     "data": {
      "text/plain": [
       "RandomForestClassifier(verbose=False)"
      ]
     },
     "execution_count": 52,
     "metadata": {},
     "output_type": "execute_result"
    }
   ],
   "source": [
    "clf.fit(x_train,y_train)"
   ]
  },
  {
   "cell_type": "code",
   "execution_count": 53,
   "id": "15bf21c7",
   "metadata": {
    "scrolled": true
   },
   "outputs": [
    {
     "name": "stdout",
     "output_type": "stream",
     "text": [
      "Mean ROC AUC: 0.625\n",
      "Accuracy Score: 97.326\n"
     ]
    }
   ],
   "source": [
    "y_pred_test = clf.predict(x_test)\n",
    "\n",
    "\n",
    "# evaluate model\n",
    "from sklearn.model_selection import cross_val_score\n",
    "from sklearn.model_selection import RepeatedStratifiedKFold\n",
    "\n",
    "cv = RepeatedStratifiedKFold(n_splits=3, n_repeats=3, random_state=11)\n",
    "scores = cross_val_score(clf, x, y, scoring='roc_auc', cv=cv, n_jobs=-1)\n",
    "ac=accuracy_score(y_pred_test,y_test)*100\n",
    "# summarize performance\n",
    "print('Mean ROC AUC: %.3f' % statistics.mean(scores))\n",
    "print('Accuracy Score: %.3f' % ac)"
   ]
  },
  {
   "cell_type": "code",
   "execution_count": 54,
   "id": "23d53fcc",
   "metadata": {},
   "outputs": [
    {
     "data": {
      "image/png": "[encoded data removed]",
      "text/plain": [
       "<Figure size 504x288 with 1 Axes>"
      ]
     },
     "metadata": {
      "needs_background": "light"
     },
     "output_type": "display_data"
    }
   ],
   "source": [
    "tmp = pd.DataFrame({'Feature': df_standard.columns[:-1], 'Feature importance': clf.feature_importances_})\n",
    "tmp = tmp.sort_values(by='Feature importance',ascending=False)\n",
    "plt.figure(figsize = (7,4))\n",
    "plt.title('Features importance',fontsize=14)\n",
    "s = sns.barplot(x='Feature',y='Feature importance',data=tmp)\n",
    "s.set_xticklabels(s.get_xticklabels(),rotation=90)\n",
    "plt.show()   "
   ]
  },
  {
   "cell_type": "markdown",
   "id": "818d0f5e",
   "metadata": {},
   "source": [
    "# Logistic Regression After Resampling\n",
    "<font size=\"1\">\n",
    "Logistic regression is a statistical algorithm for binary classification, which is also workable in fraud detection. Like random forest model, we need to resample the imbalance data first.\n",
    "</font> "
   ]
  },
  {
   "cell_type": "code",
   "execution_count": 55,
   "id": "678244f5",
   "metadata": {},
   "outputs": [
    {
     "data": {
      "text/plain": [
       "LogisticRegression()"
      ]
     },
     "execution_count": 55,
     "metadata": {},
     "output_type": "execute_result"
    }
   ],
   "source": [
    "from sklearn.linear_model import LogisticRegression\n",
    "l1=LogisticRegression()\n",
    "l1.fit(x_train,y_train)"
   ]
  },
  {
   "cell_type": "code",
   "execution_count": 56,
   "id": "aa8503ff",
   "metadata": {},
   "outputs": [
    {
     "name": "stdout",
     "output_type": "stream",
     "text": [
      "Mean ROC AUC: 0.500\n",
      "Accuracy Score: 97.326\n"
     ]
    }
   ],
   "source": [
    "y_pred_test = clf.predict(x_test)\n",
    "\n",
    "\n",
    "# evaluate model\n",
    "from sklearn.model_selection import cross_val_score\n",
    "from sklearn.model_selection import RepeatedStratifiedKFold\n",
    "\n",
    "cv = RepeatedStratifiedKFold(n_splits=3, n_repeats=3, random_state=11)\n",
    "scores = cross_val_score(l1, x, y, scoring='roc_auc', cv=cv, n_jobs=-1)\n",
    "ac=accuracy_score(y_pred_test,y_test)*100\n",
    "# summarize performance\n",
    "print('Mean ROC AUC: %.3f' % statistics.mean(scores))\n",
    "print('Accuracy Score: %.3f' % ac)"
   ]
  },
  {
   "cell_type": "markdown",
   "id": "6a901751",
   "metadata": {},
   "source": [
    "# Conclusion"
   ]
  },
  {
   "cell_type": "markdown",
   "id": "e6817cb6",
   "metadata": {},
   "source": [
    "<font size=\"3\">\n",
    "    The top 3 most import features are 'Card Present', 'Transaction Amount','Percentage of Transactions within Credit Limit'\n",
    "</font>"
   ]
  },
  {
   "cell_type": "markdown",
   "id": "d91a5173",
   "metadata": {},
   "source": [
    "<font size=\"3\">\n",
    "    I will choose Tree-Based XG-Boost model in this case due to their accuracy score is smiliar but only XG-Boost model have a acceptable 'Mean ROC AUC'.\n",
    "    \n",
    "</font>"
   ]
  },
  {
   "cell_type": "markdown",
   "id": "9b96a38f",
   "metadata": {},
   "source": [
    "# Questions"
   ]
  },
  {
   "cell_type": "markdown",
   "id": "baac3478",
   "metadata": {},
   "source": [
    "<font size=\"1\">\n",
    "    Why the average transaction amount between the multi-transaction (146.7) and reversal transaction (147) is similiar?\n",
    "    <br>\n",
    "    <br>\n",
    "    Is there any overlap between them in the real world?\n",
    "    <br>\n",
    "    <br>\n",
    "    These days, more and more people use their credit card online, beside card present, is there any other potential features can be as reliable as card present?\n",
    "    \n",
    "</font>"
   ]
  },
  {
   "cell_type": "markdown",
   "id": "835f49e7",
   "metadata": {},
   "source": [
    "# What's Next"
   ]
  },
  {
   "cell_type": "markdown",
   "id": "ea85e096",
   "metadata": {},
   "source": [
    "<font size=\"1\">\n",
    "    Test the distributions between Fraud amount and all transaction\n",
    "    <br>\n",
    "    <br>\n",
    "    Make a potential fraud flag for users who have been fraud more than once.\n",
    "    <br>\n",
    "    <br>\n",
    "    Add geographic feature into model\n",
    "    <br>\n",
    "    <br>\n",
    "    Add online and on-store flag\n",
    "    <br>\n",
    "    <br>\n",
    "    Make a model only for the transaction over 200$\n",
    "</font>"
   ]
  },
  {
   "cell_type": "code",
   "execution_count": null,
   "id": "864519b5",
   "metadata": {},
   "outputs": [],
   "source": []
  },
  {
   "cell_type": "code",
   "execution_count": null,
   "id": "b7cecedc",
   "metadata": {},
   "outputs": [],
   "source": []
  },
  {
   "cell_type": "code",
   "execution_count": null,
   "id": "7e27bfa3",
   "metadata": {},
   "outputs": [],
   "source": []
  }
 ],
 "metadata": {
  "kernelspec": {
   "display_name": "Python 3 (ipykernel)",
   "language": "python",
   "name": "python3"
  },
  "language_info": {
   "codemirror_mode": {
    "name": "ipython",
    "version": 3
   },
   "file_extension": ".py",
   "mimetype": "text/x-python",
   "name": "python",
   "nbconvert_exporter": "python",
   "pygments_lexer": "ipython3",
   "version": "3.9.12"
  }
 },
 "nbformat": 4,
 "nbformat_minor": 5
}
